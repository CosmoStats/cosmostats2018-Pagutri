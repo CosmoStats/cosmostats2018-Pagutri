{
 "cells": [
  {
   "cell_type": "markdown",
   "metadata": {},
   "source": [
    "# Ejercicio 1: ¿Qué sé hacer con Python?"
   ]
  },
  {
   "cell_type": "markdown",
   "metadata": {},
   "source": [
    "### 1. Ciclos y funciones"
   ]
  },
  {
   "cell_type": "markdown",
   "metadata": {},
   "source": [
    "La siguiente función encuentra el menor elemento en una lista de números."
   ]
  },
  {
   "cell_type": "code",
   "execution_count": 6,
   "metadata": {},
   "outputs": [],
   "source": [
    "def menor_num_en_lista(lista):\n",
    "    menor_num = lista[0]\n",
    "    \n",
    "    for num in lista:\n",
    "        if lista[num] < menor_num:\n",
    "            menor_num = lista[num]\n",
    "    \n",
    "    return menor_num"
   ]
  },
  {
   "cell_type": "code",
   "execution_count": 7,
   "metadata": {},
   "outputs": [
    {
     "name": "stdout",
     "output_type": "stream",
     "text": [
      "-3\n"
     ]
    }
   ],
   "source": [
    "# Prueba de la función menor_num_en_lista()\n",
    "\n",
    "mi_lista = [10, 9, 8, 7, 6, 5, 4, 3, 2, 1, -3]\n",
    "resp = menor_num_en_lista(mi_lista)\n",
    "\n",
    "print(resp)"
   ]
  },
  {
   "cell_type": "markdown",
   "metadata": {},
   "source": [
    "### Gráficas"
   ]
  },
  {
   "cell_type": "markdown",
   "metadata": {},
   "source": [
    "Ejemplo de gráfica en 2D."
   ]
  },
  {
   "cell_type": "code",
   "execution_count": 9,
   "metadata": {},
   "outputs": [],
   "source": [
    "import matplotlib.pyplot as plt\n",
    "import numpy as np\n",
    "%matplotlib inline"
   ]
  },
  {
   "cell_type": "code",
   "execution_count": 12,
   "metadata": {
    "scrolled": true
   },
   "outputs": [
    {
     "data": {
      "text/plain": [
       "<matplotlib.collections.PathCollection at 0x7f34be034f98>"
      ]
     },
     "execution_count": 12,
     "metadata": {},
     "output_type": "execute_result"
    },
    {
     "data": {
      "image/png": "[encoded data removed]",
      "text/plain": [
       "<Figure size 432x288 with 1 Axes>"
      ]
     },
     "metadata": {},
     "output_type": "display_data"
    }
   ],
   "source": [
    "# Este código hace una gráfica de dispersión a partir de un archivo de texto\n",
    "\n",
    "plt.scatter(*np.loadtxt(\"files/fractal.dat\", unpack = True), marker = 'o')"
   ]
  },
  {
   "cell_type": "markdown",
   "metadata": {},
   "source": [
    "### Visualizaciones con Pygame"
   ]
  },
  {
   "cell_type": "markdown",
   "metadata": {},
   "source": [
    "Movimiento de un péndulo doble."
   ]
  },
  {
   "cell_type": "code",
   "execution_count": 3,
   "metadata": {},
   "outputs": [],
   "source": [
    "import pygame\n",
    "import sys\n",
    "import random\n",
    "import math\n",
    "\n",
    "# Constantes para pygame\n",
    "white = (255,255,255)\n",
    "black = (0,0,0)\n",
    "blue = (0,0,255)\n",
    "(width, height) = (600, 600)\n",
    "std_size = 5\n",
    "\n",
    "# Constantes para movimiento\n",
    "GRAVITY = 9.8\n",
    "LENGHT = 0.3\n",
    "M_TO_PIXEL = 400.0\n",
    "X_ORIGIN = 0.5\n",
    "Y_ORIGIN = 0.5\n",
    "\n",
    "# Variables para intervalos temporales\n",
    "N = 2000\n",
    "dt = 0.05\n",
    "t = 0.0\n",
    "\n",
    "# Primer ángulo\n",
    "theta = math.pi * random.random()\n",
    "thetadot = 0.0\n",
    "thetadotdot = 0.0\n",
    "\n",
    "# Segundo ángulo\n",
    "phi = math.pi * random.random()\n",
    "phidot = 0.0\n",
    "phidotdot = 0.0\n",
    "\n",
    "\n",
    "class Mass:\n",
    "    def __init__(self, theta, phi, id_of_mass, colour):\n",
    "        self.theta = theta\n",
    "        self.phi = phi\n",
    "        self.size = std_size\n",
    "        self.colour = colour\n",
    "        self.m = id_of_mass\n",
    "        \n",
    "        self.xo = int(X_ORIGIN * width)\n",
    "        self.yo = int(Y_ORIGIN * height)\n",
    "        self.x1 = int(LENGHT * M_TO_PIXEL * math.sin(self.theta))\n",
    "        self.y1 = int(LENGHT * M_TO_PIXEL * math.cos(self.theta))\n",
    "        self.x2 = int(LENGHT * M_TO_PIXEL * math.sin(self.phi))\n",
    "        self.y2 = int(LENGHT * M_TO_PIXEL * math.cos(self.phi))\n",
    "        \n",
    "        self.x = self.xo + self.x1 + (1 - self.m) * self.x2\n",
    "        self.y = self.yo + self.y1 + (1 - self.m) * self.y2\n",
    "\n",
    "    def display_mass(self):\n",
    "        pygame.draw.circle(screen, self.colour, (self.x, self.y), self.size)\n",
    "        \n",
    "    def display_line_1(self):\n",
    "        xf = self.xo + int(LENGHT * M_TO_PIXEL * math.sin(self.theta))\n",
    "        yf = self.yo + int(LENGHT * M_TO_PIXEL * math.cos(self.theta))\n",
    "        pygame.draw.line(screen, black, (self.xo, self.yo), (xf,yf))\n",
    "        \n",
    "    def display_line_2(self):\n",
    "        xf = self.xo + self.x1 + int(LENGHT * M_TO_PIXEL * math.sin(self.phi))\n",
    "        yf = self.yo + self.y1 + int(LENGHT * M_TO_PIXEL * math.cos(self.phi))\n",
    "        pygame.draw.line(screen, black, (self.xo + self.x1, self.yo + self.y1), (xf,yf))\n",
    "\n",
    "\n",
    "def boundary_conditions(angle):\n",
    "    # Both angles can go from zero to 2 * PI radians.\n",
    "    while angle > 2.0 * math.pi:\n",
    "        angle -= 2.0 * math.pi\n",
    "        \n",
    "    while angle < 0.0:\n",
    "        angle += 2.0 * math.pi\n",
    "\n",
    "    return(angle)"
   ]
  },
  {
   "cell_type": "code",
   "execution_count": null,
   "metadata": {},
   "outputs": [
    {
     "name": "stdout",
     "output_type": "stream",
     "text": [
      "Initial angles: theta = 6.174099611191653   phi = 6.103726996387455\n"
     ]
    }
   ],
   "source": [
    "# Crear pantalla\n",
    "screen = pygame.display.set_mode((width, height))\n",
    "pygame.display.set_caption('Péndulo doble')\n",
    "screen.fill(white)\n",
    "\n",
    "print(\"Initial angles: theta = \" + str(theta) + \"   phi = \" + str(phi))\n",
    "\n",
    "# Cerrar pantalla\n",
    "running = True\n",
    "while running:\n",
    "    for event in pygame.event.get():\n",
    "        if event.type == pygame.QUIT:\n",
    "            running = False\n",
    "            pygame.display.quit()\n",
    "            pygame.quit()\n",
    "            sys.exit()\n",
    "            \n",
    "    screen.fill(white)\n",
    "    \n",
    "    for n in range(N):\n",
    "        # Ecuación de movimiento de theta\n",
    "        thetadotdot = (GRAVITY * (0.5 * math.sin(phi) * math.cos(theta - phi) -\\\n",
    "            math.sin(theta)) / LENGHT - 0.5 * math.sin(theta - phi) * (pow(phidot, 2) +\\\n",
    "            pow(thetadot, 2) * math.cos(theta - phi))) / (1.0 - 0.5 * pow(math.cos(theta - phi), 2))\n",
    "\n",
    "        # Ecuación de movimiento de phi\n",
    "        phidotdot = ((pow(thetadot, 2) + 0.5 * pow(phidot, 2) *\\\n",
    "            math.cos(theta - phi)) * math.sin(theta - phi) + GRAVITY * (math.sin(theta) *\\\n",
    "            math.cos(theta - phi) - math.sin(phi)) / LENGHT) / (1.0 - 0.5 *\\\n",
    "            pow(math.cos(theta - phi), 2))\n",
    "\n",
    "        thetadot += dt * thetadotdot\n",
    "        phidot   += dt * phidotdot\n",
    "\n",
    "        theta += dt * thetadot\n",
    "        theta = boundary_conditions(theta)\n",
    "        phi += dt * phidot\n",
    "        phi = boundary_conditions(phi)\n",
    "        t += dt\n",
    "    \n",
    "        pygame.draw.circle(screen, blue, (int(width*X_ORIGIN), int(height*Y_ORIGIN)), std_size)\n",
    "        mass_1 = Mass(theta, phi, 1, black)\n",
    "        mass_1.display_mass()\n",
    "        mass_1.display_line_1()\n",
    "        mass_2 = Mass(theta, phi, 0, blue)\n",
    "        mass_2.display_mass()\n",
    "        mass_2.display_line_2()\n",
    "\n",
    "    pygame.display.flip()"
   ]
  },
  {
   "cell_type": "code",
   "execution_count": null,
   "metadata": {},
   "outputs": [],
   "source": []
  }
 ],
 "metadata": {
  "kernelspec": {
   "display_name": "Python 3",
   "language": "python",
   "name": "python3"
  },
  "language_info": {
   "codemirror_mode": {
    "name": "ipython",
    "version": 3
   },
   "file_extension": ".py",
   "mimetype": "text/x-python",
   "name": "python",
   "nbconvert_exporter": "python",
   "pygments_lexer": "ipython3",
   "version": "3.6.6"
  }
 },
 "nbformat": 4,
 "nbformat_minor": 2
}
