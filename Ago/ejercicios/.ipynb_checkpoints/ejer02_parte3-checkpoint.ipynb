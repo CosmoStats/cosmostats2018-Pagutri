{
 "cells": [
  {
   "cell_type": "markdown",
   "metadata": {},
   "source": [
    "# Ejercicio 2: Introducción a la probabilidad\n",
    "\n",
    "## Parte 3.\n",
    "\n",
    "Para las siguientes distribuciones, calcular \n",
    "\n",
    "**a)** la función de distribución acumulada,\n",
    "\n",
    "**b)** la media y\n",
    "\n",
    "**c)** la desviación estándar\n",
    "\n",
    "Grafica ejemplos para distintos valores de $\\mu$ y $\\sigma$."
   ]
  },
  {
   "cell_type": "markdown",
   "metadata": {},
   "source": [
    "#### _Algunas definiciones_\n",
    "\n",
    "La **función de distribución acumulada** de una variable aleatoria discreta $ X $ se define como\n",
    "\n",
    "$ F(x) = P\\{ X \\leq x \\} = \\sum_{k \\leq x} p(k) $\n",
    "\n",
    "El **valor de expectación** o **media** de una variable aleatoria discreta $ X $ con función de probabilidad $ p(x) $ se define como\n",
    "\n",
    "$ E[X] = \\sum_{x} xp(x) $.\n",
    "\n",
    "Para una variable continua, se cambian las sumatorias por integrales.\n",
    "\n",
    "La **varianza** de una variable aleatoria con media $ \\mu = E[X] $ tiene dos definiciones equivalentes:\n",
    "\n",
    "$ Var(X) = E[(X - \\mu)^2] = E[X^2] - (E[X])^2 $\n",
    "\n",
    "La cantidad $ \\sigma = \\sqrt{Var(X)} $ se conoce como **desviación estándar**.\n",
    "\n",
    "### Distribución uniforme"
   ]
  },
  {
   "cell_type": "code",
   "execution_count": null,
   "metadata": {},
   "outputs": [],
   "source": []
  },
  {
   "cell_type": "markdown",
   "metadata": {},
   "source": [
    "### Distribución gaussiana"
   ]
  },
  {
   "cell_type": "code",
   "execution_count": null,
   "metadata": {},
   "outputs": [],
   "source": []
  },
  {
   "cell_type": "markdown",
   "metadata": {},
   "source": [
    "### Distribución de Poisson\n",
    "\n",
    "Se dice que una variable aleatoria $ X $ que toma valores enteros no negativos es _de Poisson_ si tiene la función de probabilidad\n",
    "\n",
    "$ P\\{X = i\\} = p(i) = e^{-\\lambda} \\frac{\\lambda^i}{i!} $,\n",
    "\n",
    "la cual es una aproximación de la función de probabilidad binomial (ver abajo) cuando $ n $ es muy grande, $ p $ es pequeño y $ \\lambda = np $ es de tamaño _moderado_. $ \\lambda $ suele estimarse de manera empírica."
   ]
  },
  {
   "cell_type": "markdown",
   "metadata": {},
   "source": [
    "#### Valor de expectación (media)\n",
    "\n",
    "Aplicando la definición:\n",
    "\n",
    "$ E[X] = \\sum_{i = 0}^{\\infty} \\frac{ie^{-\\lambda}\\lambda^i}{i!} = \\lambda \\sum_{i = 1}^{\\infty} \\frac{e^{-\\lambda}\\lambda^{i - 1}}{(i - 1)!} $\n",
    "\n",
    "Jugando con el índice mudo i = j + 1:\n",
    "\n",
    "$ E[X] = \\lambda e^{-\\lambda} \\sum_{j = 0}^{\\infty} \\frac{\\lambda^j}{j!} = \\lambda e^{-\\lambda}(e^\\lambda)$\n",
    "\n",
    "$ \\Rightarrow E[X] = \\lambda $\n",
    "\n",
    "Este resultado coincide con el de la distribución binomial si consideramos $ \\lambda = np $."
   ]
  },
  {
   "cell_type": "markdown",
   "metadata": {},
   "source": [
    "#### Desviación estándar\n",
    "\n",
    "Primero calculamos $ E[X^2] $:\n",
    "\n",
    "$ E[X^2] = \\sum_{i = 0}^{\\infty} \\frac{i^2e^{-\\lambda}\\lambda^i}{i!} = \\lambda \\sum_{i = 1}^{\\infty} \\frac{ie^{-\\lambda}\\lambda^{i - 1}}{(i - 1)!} $\n",
    "\n",
    "Jugando con el índice mudo i = j + 1:\n",
    "\n",
    "$ E[X^2] = \\lambda \\sum_{j = 0}^{\\infty} \\frac{(j + 1)e^{-\\lambda} \\lambda^j}{j!} = \\lambda \\Big[ \\sum_{j = 0}^{\\infty} \\frac{je^{-\\lambda} \\lambda^j}{j!} + \\sum_{j = 0}^{\\infty} \\frac{e^{-\\lambda} \\lambda^j}{j!} \\Big] $\n",
    "\n",
    "$ \\Rightarrow E[X^2] = \\lambda(\\lambda + 1) $.\n",
    "\n",
    "Así, encontramos que $ Var(X) = \\lambda(\\lambda + 1) - \\lambda^2 = \\lambda $\n",
    "\n",
    "$ \\Rightarrow \\sigma = \\sqrt{\\lambda} $"
   ]
  },
  {
   "cell_type": "code",
   "execution_count": null,
   "metadata": {},
   "outputs": [],
   "source": []
  },
  {
   "cell_type": "markdown",
   "metadata": {},
   "source": [
    "### Distribución beta"
   ]
  },
  {
   "cell_type": "code",
   "execution_count": null,
   "metadata": {},
   "outputs": [],
   "source": []
  },
  {
   "cell_type": "markdown",
   "metadata": {},
   "source": [
    "### Distribución binomial\n",
    "\n",
    "Supongamos un experimento cuyos resultados pueden ser clasificados como *éxitos* o *fracasos*. Supongamos ahora que hacemos $ n $ ensayos de ese experimento, cada uno de los cuales termina en éxito con probabilidad $ p $ o en fracaso con probabilidad $ 1 - p $. Si $ X $ representa el número de éxitos en los $ n $ ensayos, entonces decimos que $ X $ es una _variable aleatoria binomial_ con parámetros $ (n, p) $. Su **función de probabilidad** sería\n",
    "\n",
    "$ P\\{X = i\\} = p(i) = {n\\choose i} p^i (1 - p)^{n - i} $\n",
    "\n",
    "$ i = 0, 1, ..., n $"
   ]
  },
  {
   "cell_type": "markdown",
   "metadata": {},
   "source": [
    "#### Función de distribución acumulada\n",
    "\n",
    "Utilizamos la siguiente propiedad de la distribución binomial, que deriva directamente de su función de probabilidad:\n",
    "\n",
    "$ P\\{X = k + 1\\} = \\frac{p(n - k)}{(1 - p)(k + 1)}P\\{X = k\\} $\n",
    "\n",
    "para calcular recursivamente\n",
    "\n",
    "$ P\\{X \\leq i\\} = \\sum_{k = 0}^i {n\\choose k}p^k(1 - p)^{n - k} $"
   ]
  },
  {
   "cell_type": "markdown",
   "metadata": {},
   "source": [
    "#### Valor de expectación (media)\n",
    "\n",
    "Aplicando la definición:\n",
    "\n",
    "$ E[X^k] = \\sum^{n}_{i = 0} i^k {n\\choose i} p^i(1 - p)^{n - i} $\n",
    "\n",
    "$ E[X^k] = \\sum^{n}_{i = 1} i^k {n\\choose i} p^i(1 - p)^{n - i} $,\n",
    "\n",
    "donde elevamos $ X^k $ solo porque nos va a servir para calcular la varianza. Usar la identidad\n",
    "\n",
    "$ i{n\\choose i} = n{{n - 1}\\choose {i - 1}} $\n",
    "\n",
    "nos da\n",
    "\n",
    "$ E[X^k] = np\\sum^{n}_{i = 1} i^{k - 1} {{n - 1}\\choose {i - 1}} p^{i - 1}(1 - p)^{n - i} $.\n",
    "\n",
    "Jugando con el índice mudo $ i = j + 1 $:\n",
    "\n",
    "$ E[X^k] = np\\sum^{n}_{j = 0} (j + 1)^{k - 1} {{n - 1}\\choose j} p^j(1 - p)^{n - 1 - j} $\n",
    "\n",
    "$ E[X^k] = npE[(Y + 1)^{k - 1}] $\n",
    "\n",
    "donde $ Y $ es una variable aleatoria binomial con parámetros $ (n - 1, p) $. Si elegimos k = 1 en la ecuación anterior, obtenemos finalmente el **valor de expectación**:\n",
    "\n",
    "$ E[X] = np $"
   ]
  },
  {
   "cell_type": "markdown",
   "metadata": {},
   "source": [
    "#### Desviación estándar\n",
    "\n",
    "Si elegimos k = 2 en la ecuación para el valor de expectación, obtenemos\n",
    "\n",
    "$ E[X^2] = npE[Y + 1] = np[(n - 1)p + 1] $.\n",
    "\n",
    "Aplicando la definición de varianza:\n",
    "\n",
    "$ Var(X) = E[X^2] - (E[X])^2 = np[(n - 1)p + 1] - (np)^2 = np(1 - p) $\n",
    "\n",
    "$ \\Rightarrow \\sigma = \\sqrt{np(1 - p)} $\n",
    "\n",
    "#### Ejemplos"
   ]
  },
  {
   "cell_type": "code",
   "execution_count": null,
   "metadata": {},
   "outputs": [],
   "source": []
  },
  {
   "cell_type": "markdown",
   "metadata": {},
   "source": [
    "### Distribución $\\chi^2$"
   ]
  },
  {
   "cell_type": "code",
   "execution_count": null,
   "metadata": {},
   "outputs": [],
   "source": []
  }
 ],
 "metadata": {
  "kernelspec": {
   "display_name": "Python 3",
   "language": "python",
   "name": "python3"
  },
  "language_info": {
   "codemirror_mode": {
    "name": "ipython",
    "version": 3
   },
   "file_extension": ".py",
   "mimetype": "text/x-python",
   "name": "python",
   "nbconvert_exporter": "python",
   "pygments_lexer": "ipython3",
   "version": "3.6.6"
  }
 },
 "nbformat": 4,
 "nbformat_minor": 2
}
