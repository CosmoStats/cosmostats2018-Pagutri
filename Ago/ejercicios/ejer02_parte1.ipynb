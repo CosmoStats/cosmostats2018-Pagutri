{
 "cells": [
  {
   "cell_type": "markdown",
   "metadata": {},
   "source": [
    "# Ejercicio 2: Introducción a la probabilidad\n",
    "\n",
    "### Parte 1.\n",
    "\n",
    "Realizar un código que ajuste una recta a un conjunto de datos dado y mostrar un ejemplo."
   ]
  },
  {
   "cell_type": "code",
   "execution_count": 2,
   "metadata": {},
   "outputs": [],
   "source": [
    "import numpy as np\n",
    "import matplotlib.pyplot as plt\n",
    "%matplotlib inline"
   ]
  },
  {
   "cell_type": "code",
   "execution_count": 36,
   "metadata": {},
   "outputs": [],
   "source": [
    "def linear_least_square(file_name):\n",
    "    x = np.loadtxt(file_name, usecols = 0)\n",
    "    y = np.loadtxt(file_name, usecols = 1)\n",
    "    \n",
    "    N = len(x)\n",
    "    Sx = np.sum(x)\n",
    "    Sy = np.sum(y)\n",
    "    Sxx = np.sum(np.square(x))\n",
    "    Sxy = np.sum(np.multiply(x, y))\n",
    "    \n",
    "    a = (N*Sxy - Sx*Sy) / (N*Sxx - Sx*Sx)\n",
    "    b = (Sxx*Sy - Sx*Sxy) / (N*Sxx - Sx*Sx)\n",
    "    \n",
    "    print(\"La recta de ajuste es \",a,\"x +\",b)\n",
    "    \n",
    "    plt.plot(x, y, 'o')\n",
    "    plt.plot(x, a*x + b, 'r')"
   ]
  },
  {
   "cell_type": "code",
   "execution_count": 37,
   "metadata": {},
   "outputs": [
    {
     "name": "stdout",
     "output_type": "stream",
     "text": [
      "La recta de ajuste es  29.229688504455453 x + -3.6600573737560995\n"
     ]
    },
    {
     "data": {
      "image/png": "[encoded data removed]",
      "text/plain": [
       "<Figure size 432x288 with 1 Axes>"
      ]
     },
     "metadata": {},
     "output_type": "display_data"
    }
   ],
   "source": [
    "# Datos tomados de http://archive.ics.uci.edu/ml/machine-learning-databases/abalone/abalone.data\n",
    "# Me quedé solo con los datos para ejemplares femeninos, columnas primera y última\n",
    "\n",
    "linear_least_square(\"files/xy.dat\")"
   ]
  }
 ],
 "metadata": {
  "kernelspec": {
   "display_name": "Python 2",
   "language": "python",
   "name": "python2"
  },
  "language_info": {
   "codemirror_mode": {
    "name": "ipython",
    "version": 2
   },
   "file_extension": ".py",
   "mimetype": "text/x-python",
   "name": "python",
   "nbconvert_exporter": "python",
   "pygments_lexer": "ipython2",
   "version": "2.7.15"
  }
 },
 "nbformat": 4,
 "nbformat_minor": 2
}
