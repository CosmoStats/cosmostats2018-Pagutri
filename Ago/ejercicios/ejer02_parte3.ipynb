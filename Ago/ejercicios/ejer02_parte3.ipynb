{
 "cells": [
  {
   "cell_type": "markdown",
   "metadata": {},
   "source": [
    "# Ejercicio 2: Introducción a la probabilidad\n",
    "\n",
    "## Parte 3.\n",
    "\n",
    "Para las siguientes distribuciones, calcular \n",
    "\n",
    "**a)** la función de distribución acumulada,\n",
    "\n",
    "**b)** la media y\n",
    "\n",
    "**c)** la desviación estándar\n",
    "\n",
    "Grafica ejemplos para distintos valores de $\\mu$ y $\\sigma$."
   ]
  },
  {
   "cell_type": "markdown",
   "metadata": {},
   "source": [
    "#### _Algunas definiciones_\n",
    "\n",
    "La **función de distribución acumulada** de una variable aleatoria discreta $ X $ se define como\n",
    "\n",
    "$$ F(x) = P\\{ X \\leq x \\} = \\sum_{k \\leq x} p(k) $$\n",
    "\n",
    "El **valor de expectación** o **media** de una variable aleatoria discreta $ X $ con función de probabilidad $ p(x) $ se define como\n",
    "\n",
    "$$ E[X] = \\sum_{x} xp(x) $$\n",
    "\n",
    "Para una variable continua, se cambian las sumatorias por integrales y se integra sobre la _densidad de probabilidad_.\n",
    "\n",
    "La **varianza** de una variable aleatoria con media $ \\mu = E[X] $ tiene dos definiciones equivalentes:\n",
    "\n",
    "$$ Var(X) = E[(X - \\mu)^2] = E[X^2] - (E[X])^2 $$\n",
    "\n",
    "La cantidad $ \\sigma = \\sqrt{Var(X)} $ se conoce como **desviación estándar**."
   ]
  },
  {
   "cell_type": "code",
   "execution_count": 1,
   "metadata": {},
   "outputs": [],
   "source": [
    "import numpy as np\n",
    "import matplotlib.pyplot as plt\n",
    "%matplotlib inline"
   ]
  },
  {
   "cell_type": "markdown",
   "metadata": {},
   "source": [
    "### Distribución uniforme\n",
    "\n",
    "Se considera que una variable aleatoria continua $ X $ es uniforme en un intervalo $ (\\alpha, \\beta) $ si su densidad de probabilidad es\n",
    "\n",
    "$$\n",
    "f(x) = \\left\\{\n",
    "        \\begin{array}{ll}\n",
    "            \\frac{1}{\\beta - \\alpha} & \\quad \\alpha < x < \\beta \\\\\n",
    "            0 & \\quad x \\leq \\alpha, x \\geq \\beta\n",
    "        \\end{array}\n",
    "    \\right.\n",
    "$$"
   ]
  },
  {
   "cell_type": "markdown",
   "metadata": {},
   "source": [
    "#### Función de distribución acumulada\n",
    "\n",
    "Tenemos tres casos. Para $ x \\leq \\alpha $:\n",
    "\n",
    "$$ F(x) = \\int_{-\\infty}^{x} f(x) dx = \\int_{-\\infty}^{x} 0 dx = 0 $$\n",
    "\n",
    "Para $ \\alpha < x < \\beta $:\n",
    "\n",
    "$$ F(x) = \\int_{-\\infty}^{x} f(x) dx = \\int_{-\\infty}^{\\alpha} 0 dx + \\int_{\\alpha}^{x} \\Big(\\frac{1}{\\beta - \\alpha}\\Big) dx = \\frac{x - \\alpha}{\\beta - \\alpha} $$\n",
    "\n",
    "Para $ x \\geq \\beta $:\n",
    "\n",
    "$$ F(x) = \\int_{-\\infty}^{x} f(x) dx = \\int_{-\\infty}^{\\alpha} 0 dx + \\int_{\\alpha}^{\\beta} \\Big(\\frac{1}{\\beta - \\alpha}\\Big) dx + \\int_{\\beta}^{x} 0 dx  = \\frac{\\beta - \\alpha}{\\beta - \\alpha} = 1 $$\n",
    "\n",
    "Por lo tanto,\n",
    "\n",
    "$$\n",
    "F(x) = \\left\\{\n",
    "        \\begin{array}{ll}\n",
    "            0 & \\quad x \\leq \\alpha \\\\\n",
    "            \\frac{x - \\alpha}{\\beta - \\alpha} & \\quad \\alpha < x < \\beta \\\\\n",
    "            1 & \\quad x \\geq \\beta\n",
    "        \\end{array}\n",
    "    \\right.\n",
    "$$"
   ]
  },
  {
   "cell_type": "markdown",
   "metadata": {},
   "source": [
    "#### Valor de expectación (media)\n",
    "\n",
    "$$\n",
    "\\begin{align*}\n",
    "    E[X] &= \\int_{-\\infty}^{\\infty} xf(x) dx \\\\\n",
    "         &= \\int_{\\alpha}^{\\beta} \\frac{x}{\\beta - \\alpha} dx \\\\\n",
    "         &= \\frac{\\beta^2 - \\alpha^2}{2(\\beta - \\alpha)} \\\\\n",
    "         &= \\frac{\\beta + \\alpha}{2}\n",
    "\\end{align*}\n",
    "$$"
   ]
  },
  {
   "cell_type": "markdown",
   "metadata": {},
   "source": [
    "#### Desviación estándar\n",
    "\n",
    "\\begin{equation}\n",
    "E[X^2] = \\int_{-\\infty}^{\\infty} x^2f(x) dx = \\int_{\\alpha}^{\\beta} \\frac{x}{\\beta - \\alpha} dx = \\frac{\\beta^3 - \\alpha^3}{2(\\beta - \\alpha)} = \\frac{\\beta^2 + \\alpha \\beta + \\alpha^2}{3}\n",
    "\\end{equation}\n",
    "\n",
    "$$\n",
    "\\Rightarrow Var(X) = \\frac{\\beta^2 + \\alpha \\beta + \\alpha^2}{3} - \\frac{(\\beta + \\alpha)^2}{4} = \\frac{(\\beta - \\alpha)^2}{12} \n",
    "$$\n",
    "\n",
    "$$ \\Rightarrow \\sigma = \\frac{\\beta - \\alpha}{\\sqrt{12}} $$"
   ]
  },
  {
   "cell_type": "markdown",
   "metadata": {},
   "source": [
    "#### Ejemplos"
   ]
  },
  {
   "cell_type": "code",
   "execution_count": 6,
   "metadata": {},
   "outputs": [
    {
     "ename": "ValueError",
     "evalue": "x and y must have same first dimension, but have shapes (90,) and (1,)",
     "output_type": "error",
     "traceback": [
      "\u001b[0;31m---------------------------------------------------------------------------\u001b[0m",
      "\u001b[0;31mValueError\u001b[0m                                Traceback (most recent call last)",
      "\u001b[0;32m<ipython-input-6-a1ffdd62a56b>\u001b[0m in \u001b[0;36m<module>\u001b[0;34m()\u001b[0m\n\u001b[1;32m      9\u001b[0m \u001b[0;32mfor\u001b[0m \u001b[0mi\u001b[0m \u001b[0;32min\u001b[0m \u001b[0mrange\u001b[0m\u001b[0;34m(\u001b[0m\u001b[0;36m6\u001b[0m\u001b[0;34m)\u001b[0m\u001b[0;34m:\u001b[0m\u001b[0;34m\u001b[0m\u001b[0m\n\u001b[1;32m     10\u001b[0m     \u001b[0mbeta\u001b[0m \u001b[0;34m+=\u001b[0m \u001b[0;36m0.5\u001b[0m\u001b[0;34m\u001b[0m\u001b[0m\n\u001b[0;32m---> 11\u001b[0;31m     \u001b[0mplt\u001b[0m\u001b[0;34m.\u001b[0m\u001b[0mplot\u001b[0m\u001b[0;34m(\u001b[0m\u001b[0mx\u001b[0m\u001b[0;34m,\u001b[0m \u001b[0mfx_uniform\u001b[0m\u001b[0;34m(\u001b[0m\u001b[0mx\u001b[0m\u001b[0;34m,\u001b[0m \u001b[0malfa\u001b[0m\u001b[0;34m,\u001b[0m \u001b[0mbeta\u001b[0m\u001b[0;34m)\u001b[0m\u001b[0;34m)\u001b[0m\u001b[0;34m\u001b[0m\u001b[0m\n\u001b[0m\u001b[1;32m     12\u001b[0m \u001b[0;34m\u001b[0m\u001b[0m\n\u001b[1;32m     13\u001b[0m \u001b[0mprint\u001b[0m\u001b[0;34m(\u001b[0m\u001b[0malfa\u001b[0m\u001b[0;34m,\u001b[0m \u001b[0mbeta\u001b[0m\u001b[0;34m)\u001b[0m\u001b[0;34m\u001b[0m\u001b[0m\n",
      "\u001b[0;32m/usr/lib64/python3.6/site-packages/matplotlib/pyplot.py\u001b[0m in \u001b[0;36mplot\u001b[0;34m(*args, **kwargs)\u001b[0m\n\u001b[1;32m   3356\u001b[0m                       mplDeprecation)\n\u001b[1;32m   3357\u001b[0m     \u001b[0;32mtry\u001b[0m\u001b[0;34m:\u001b[0m\u001b[0;34m\u001b[0m\u001b[0m\n\u001b[0;32m-> 3358\u001b[0;31m         \u001b[0mret\u001b[0m \u001b[0;34m=\u001b[0m \u001b[0max\u001b[0m\u001b[0;34m.\u001b[0m\u001b[0mplot\u001b[0m\u001b[0;34m(\u001b[0m\u001b[0;34m*\u001b[0m\u001b[0margs\u001b[0m\u001b[0;34m,\u001b[0m \u001b[0;34m**\u001b[0m\u001b[0mkwargs\u001b[0m\u001b[0;34m)\u001b[0m\u001b[0;34m\u001b[0m\u001b[0m\n\u001b[0m\u001b[1;32m   3359\u001b[0m     \u001b[0;32mfinally\u001b[0m\u001b[0;34m:\u001b[0m\u001b[0;34m\u001b[0m\u001b[0m\n\u001b[1;32m   3360\u001b[0m         \u001b[0max\u001b[0m\u001b[0;34m.\u001b[0m\u001b[0m_hold\u001b[0m \u001b[0;34m=\u001b[0m \u001b[0mwashold\u001b[0m\u001b[0;34m\u001b[0m\u001b[0m\n",
      "\u001b[0;32m/usr/lib64/python3.6/site-packages/matplotlib/__init__.py\u001b[0m in \u001b[0;36minner\u001b[0;34m(ax, *args, **kwargs)\u001b[0m\n\u001b[1;32m   1855\u001b[0m                         \u001b[0;34m\"the Matplotlib list!)\"\u001b[0m \u001b[0;34m%\u001b[0m \u001b[0;34m(\u001b[0m\u001b[0mlabel_namer\u001b[0m\u001b[0;34m,\u001b[0m \u001b[0mfunc\u001b[0m\u001b[0;34m.\u001b[0m\u001b[0m__name__\u001b[0m\u001b[0;34m)\u001b[0m\u001b[0;34m,\u001b[0m\u001b[0;34m\u001b[0m\u001b[0m\n\u001b[1;32m   1856\u001b[0m                         RuntimeWarning, stacklevel=2)\n\u001b[0;32m-> 1857\u001b[0;31m             \u001b[0;32mreturn\u001b[0m \u001b[0mfunc\u001b[0m\u001b[0;34m(\u001b[0m\u001b[0max\u001b[0m\u001b[0;34m,\u001b[0m \u001b[0;34m*\u001b[0m\u001b[0margs\u001b[0m\u001b[0;34m,\u001b[0m \u001b[0;34m**\u001b[0m\u001b[0mkwargs\u001b[0m\u001b[0;34m)\u001b[0m\u001b[0;34m\u001b[0m\u001b[0m\n\u001b[0m\u001b[1;32m   1858\u001b[0m \u001b[0;34m\u001b[0m\u001b[0m\n\u001b[1;32m   1859\u001b[0m         inner.__doc__ = _add_data_doc(inner.__doc__,\n",
      "\u001b[0;32m/usr/lib64/python3.6/site-packages/matplotlib/axes/_axes.py\u001b[0m in \u001b[0;36mplot\u001b[0;34m(self, *args, **kwargs)\u001b[0m\n\u001b[1;32m   1525\u001b[0m         \u001b[0mkwargs\u001b[0m \u001b[0;34m=\u001b[0m \u001b[0mcbook\u001b[0m\u001b[0;34m.\u001b[0m\u001b[0mnormalize_kwargs\u001b[0m\u001b[0;34m(\u001b[0m\u001b[0mkwargs\u001b[0m\u001b[0;34m,\u001b[0m \u001b[0m_alias_map\u001b[0m\u001b[0;34m)\u001b[0m\u001b[0;34m\u001b[0m\u001b[0m\n\u001b[1;32m   1526\u001b[0m \u001b[0;34m\u001b[0m\u001b[0m\n\u001b[0;32m-> 1527\u001b[0;31m         \u001b[0;32mfor\u001b[0m \u001b[0mline\u001b[0m \u001b[0;32min\u001b[0m \u001b[0mself\u001b[0m\u001b[0;34m.\u001b[0m\u001b[0m_get_lines\u001b[0m\u001b[0;34m(\u001b[0m\u001b[0;34m*\u001b[0m\u001b[0margs\u001b[0m\u001b[0;34m,\u001b[0m \u001b[0;34m**\u001b[0m\u001b[0mkwargs\u001b[0m\u001b[0;34m)\u001b[0m\u001b[0;34m:\u001b[0m\u001b[0;34m\u001b[0m\u001b[0m\n\u001b[0m\u001b[1;32m   1528\u001b[0m             \u001b[0mself\u001b[0m\u001b[0;34m.\u001b[0m\u001b[0madd_line\u001b[0m\u001b[0;34m(\u001b[0m\u001b[0mline\u001b[0m\u001b[0;34m)\u001b[0m\u001b[0;34m\u001b[0m\u001b[0m\n\u001b[1;32m   1529\u001b[0m             \u001b[0mlines\u001b[0m\u001b[0;34m.\u001b[0m\u001b[0mappend\u001b[0m\u001b[0;34m(\u001b[0m\u001b[0mline\u001b[0m\u001b[0;34m)\u001b[0m\u001b[0;34m\u001b[0m\u001b[0m\n",
      "\u001b[0;32m/usr/lib64/python3.6/site-packages/matplotlib/axes/_base.py\u001b[0m in \u001b[0;36m_grab_next_args\u001b[0;34m(self, *args, **kwargs)\u001b[0m\n\u001b[1;32m    404\u001b[0m                 \u001b[0mthis\u001b[0m \u001b[0;34m+=\u001b[0m \u001b[0margs\u001b[0m\u001b[0;34m[\u001b[0m\u001b[0;36m0\u001b[0m\u001b[0;34m]\u001b[0m\u001b[0;34m,\u001b[0m\u001b[0;34m\u001b[0m\u001b[0m\n\u001b[1;32m    405\u001b[0m                 \u001b[0margs\u001b[0m \u001b[0;34m=\u001b[0m \u001b[0margs\u001b[0m\u001b[0;34m[\u001b[0m\u001b[0;36m1\u001b[0m\u001b[0;34m:\u001b[0m\u001b[0;34m]\u001b[0m\u001b[0;34m\u001b[0m\u001b[0m\n\u001b[0;32m--> 406\u001b[0;31m             \u001b[0;32mfor\u001b[0m \u001b[0mseg\u001b[0m \u001b[0;32min\u001b[0m \u001b[0mself\u001b[0m\u001b[0;34m.\u001b[0m\u001b[0m_plot_args\u001b[0m\u001b[0;34m(\u001b[0m\u001b[0mthis\u001b[0m\u001b[0;34m,\u001b[0m \u001b[0mkwargs\u001b[0m\u001b[0;34m)\u001b[0m\u001b[0;34m:\u001b[0m\u001b[0;34m\u001b[0m\u001b[0m\n\u001b[0m\u001b[1;32m    407\u001b[0m                 \u001b[0;32myield\u001b[0m \u001b[0mseg\u001b[0m\u001b[0;34m\u001b[0m\u001b[0m\n\u001b[1;32m    408\u001b[0m \u001b[0;34m\u001b[0m\u001b[0m\n",
      "\u001b[0;32m/usr/lib64/python3.6/site-packages/matplotlib/axes/_base.py\u001b[0m in \u001b[0;36m_plot_args\u001b[0;34m(self, tup, kwargs)\u001b[0m\n\u001b[1;32m    381\u001b[0m             \u001b[0mx\u001b[0m\u001b[0;34m,\u001b[0m \u001b[0my\u001b[0m \u001b[0;34m=\u001b[0m \u001b[0mindex_of\u001b[0m\u001b[0;34m(\u001b[0m\u001b[0mtup\u001b[0m\u001b[0;34m[\u001b[0m\u001b[0;34m-\u001b[0m\u001b[0;36m1\u001b[0m\u001b[0;34m]\u001b[0m\u001b[0;34m)\u001b[0m\u001b[0;34m\u001b[0m\u001b[0m\n\u001b[1;32m    382\u001b[0m \u001b[0;34m\u001b[0m\u001b[0m\n\u001b[0;32m--> 383\u001b[0;31m         \u001b[0mx\u001b[0m\u001b[0;34m,\u001b[0m \u001b[0my\u001b[0m \u001b[0;34m=\u001b[0m \u001b[0mself\u001b[0m\u001b[0;34m.\u001b[0m\u001b[0m_xy_from_xy\u001b[0m\u001b[0;34m(\u001b[0m\u001b[0mx\u001b[0m\u001b[0;34m,\u001b[0m \u001b[0my\u001b[0m\u001b[0;34m)\u001b[0m\u001b[0;34m\u001b[0m\u001b[0m\n\u001b[0m\u001b[1;32m    384\u001b[0m \u001b[0;34m\u001b[0m\u001b[0m\n\u001b[1;32m    385\u001b[0m         \u001b[0;32mif\u001b[0m \u001b[0mself\u001b[0m\u001b[0;34m.\u001b[0m\u001b[0mcommand\u001b[0m \u001b[0;34m==\u001b[0m \u001b[0;34m'plot'\u001b[0m\u001b[0;34m:\u001b[0m\u001b[0;34m\u001b[0m\u001b[0m\n",
      "\u001b[0;32m/usr/lib64/python3.6/site-packages/matplotlib/axes/_base.py\u001b[0m in \u001b[0;36m_xy_from_xy\u001b[0;34m(self, x, y)\u001b[0m\n\u001b[1;32m    240\u001b[0m         \u001b[0;32mif\u001b[0m \u001b[0mx\u001b[0m\u001b[0;34m.\u001b[0m\u001b[0mshape\u001b[0m\u001b[0;34m[\u001b[0m\u001b[0;36m0\u001b[0m\u001b[0;34m]\u001b[0m \u001b[0;34m!=\u001b[0m \u001b[0my\u001b[0m\u001b[0;34m.\u001b[0m\u001b[0mshape\u001b[0m\u001b[0;34m[\u001b[0m\u001b[0;36m0\u001b[0m\u001b[0;34m]\u001b[0m\u001b[0;34m:\u001b[0m\u001b[0;34m\u001b[0m\u001b[0m\n\u001b[1;32m    241\u001b[0m             raise ValueError(\"x and y must have same first dimension, but \"\n\u001b[0;32m--> 242\u001b[0;31m                              \"have shapes {} and {}\".format(x.shape, y.shape))\n\u001b[0m\u001b[1;32m    243\u001b[0m         \u001b[0;32mif\u001b[0m \u001b[0mx\u001b[0m\u001b[0;34m.\u001b[0m\u001b[0mndim\u001b[0m \u001b[0;34m>\u001b[0m \u001b[0;36m2\u001b[0m \u001b[0;32mor\u001b[0m \u001b[0my\u001b[0m\u001b[0;34m.\u001b[0m\u001b[0mndim\u001b[0m \u001b[0;34m>\u001b[0m \u001b[0;36m2\u001b[0m\u001b[0;34m:\u001b[0m\u001b[0;34m\u001b[0m\u001b[0m\n\u001b[1;32m    244\u001b[0m             raise ValueError(\"x and y can be no greater than 2-D, but have \"\n",
      "\u001b[0;31mValueError\u001b[0m: x and y must have same first dimension, but have shapes (90,) and (1,)"
     ]
    },
    {
     "data": {
      "image/png": "[encoded data removed]",
      "text/plain": [
       "<Figure size 432x288 with 1 Axes>"
      ]
     },
     "metadata": {},
     "output_type": "display_data"
    }
   ],
   "source": [
    "x = [i for i in np.arange(-3, 6, 0.1)]\n",
    "\n",
    "def fx_uniform(x, alfa, beta):\n",
    "    return (1.0 / (beta - alfa))\n",
    "\n",
    "alfa = 0.0\n",
    "beta = 1.0\n",
    "\n",
    "for i in range(6):\n",
    "    beta += 0.5\n",
    "    plt.plot(x, fx_uniform(x, alfa, beta))\n",
    "\n",
    "print(alfa, beta)"
   ]
  },
  {
   "cell_type": "markdown",
   "metadata": {},
   "source": [
    "### Distribución gaussiana\n",
    "\n",
    "La densidad de probabilidad de una variable aleatoria normal o gaussiana con parámetros $ \\mu $ y $ \\sigma^2 $ es\n",
    "\n",
    "$$\n",
    "f(x) = \\frac{1}{\\sqrt{2\\pi}\\sigma}e^{-(x - \\mu)^2/2\\sigma^2} \n",
    "$$\n",
    "\n",
    "Muchos fenómenos aleatorios obedecen, por lo menos aproximadamente, una distribución de probabilidad normal. El teorema del límite central es la base sobre la que se fundamenta esta observación."
   ]
  },
  {
   "cell_type": "markdown",
   "metadata": {},
   "source": [
    "#### Función de distribución acumulada\n",
    "\n",
    "Tomemos la función de distribución de la variable aleatoria _estándar_ $ Z = (X - \\mu)/\\sigma $\n",
    "\n",
    "$$ \\Phi(x) = \\frac{1}{\\sqrt{2\\pi}} \\int_{-\\infty}^{x} e^{-y^2/2} dy $$\n",
    "\n",
    "que cumple $ \\Phi(-x) = 1 - \\Phi(x) \\Rightarrow P\\{Z \\leq -x\\} = P\\{Z > x\\} $ y cuyos valores pueden tabularse. De aquí se sigue que la función de distribución para X puede expresarse como\n",
    "\n",
    "$$ F(a) = P\\{X \\leq a\\} = P\\Big( \\frac{X - \\mu}{\\sigma} \\leq \\frac{a - \\mu}{\\sigma} \\Big) = \\Phi \\Big( \\frac{a - \\mu}{\\sigma} \\Big) $$"
   ]
  },
  {
   "cell_type": "markdown",
   "metadata": {},
   "source": [
    "#### Valor de expectación (media)\n",
    "\n",
    "Puede demostrarse que $ E[X] = \\mu $. Primero, encontremos la media de la variable aleatoria _estándar_:\n",
    "\n",
    "$$\n",
    "\\begin{align*}\n",
    "    E[Z] &= \\int_{-\\infty}^{\\infty} xf_z(x) dx \\\\\n",
    "         &= \\frac{1}{\\sqrt{2\\pi}} \\int_{-\\infty}^{\\infty} xe^{-x^2/2} dx \\\\\n",
    "         &= -\\frac{1}{\\sqrt{2\\pi}} e^{-x^2/2} |_{-\\infty}^{\\infty} \\\\\n",
    "         &= 0\n",
    "\\end{align*}\n",
    "$$\n",
    "\n",
    "Como $ X = \\mu + \\sigma Z $, por linealidad de $ E $:\n",
    "\n",
    "$$ E[X] = \\mu + \\sigma E[Z] = \\mu $$"
   ]
  },
  {
   "cell_type": "markdown",
   "metadata": {},
   "source": [
    "#### Desviación estándar\n",
    "\n",
    "De forma parecida, puede demostrarse que la desviación estándar es igual a $ \\mu $.\n",
    "\n",
    "$$\n",
    "\\begin{align*}\n",
    "    Var(Z) &= E[Z^2] \\\\\n",
    "           &= \\frac{1}{\\sqrt{2\\pi}} \\int_{-\\infty}^{\\infty} xe^{-x^2/2} dx \\\\\n",
    "           &= \\frac{1}{\\sqrt{2\\pi}} \\Big( -xe^{-x^2/2} |_{-\\infty}^{\\infty} + \\int_{-\\infty}^{\\infty} e^{-x^2/2} dx \\Big) \\\\\n",
    "           &= \\frac{1}{\\sqrt{2\\pi}} \\int_{-\\infty}^{\\infty} e^{-x^2/2} dx \\\\\n",
    "           &= 1\n",
    "\\end{align*}           \n",
    "$$\n",
    "\n",
    "Por linealidad de $ Var $:\n",
    "\n",
    "$$ Var(X) = \\sigma^2Var[Z] = \\sigma^2 $$\n",
    "\n",
    "Por lo que la desviación estándar es $ \\sigma $.\n",
    "\n",
    "#### Ejemplos"
   ]
  },
  {
   "cell_type": "code",
   "execution_count": null,
   "metadata": {},
   "outputs": [],
   "source": []
  },
  {
   "cell_type": "markdown",
   "metadata": {},
   "source": [
    "### Distribución binomial\n",
    "\n",
    "Supongamos un experimento cuyos resultados pueden ser clasificados como *éxitos* o *fracasos*. Supongamos ahora que hacemos $ n $ ensayos de ese experimento, cada uno de los cuales termina en éxito con probabilidad $ p $ o en fracaso con probabilidad $ 1 - p $. Si $ X $ representa el número de éxitos en los $ n $ ensayos, entonces decimos que $ X $ es una _variable aleatoria binomial_ con parámetros $ (n, p) $. Su **función de probabilidad** sería\n",
    "\n",
    "$$ P\\{X = i\\} = p(i) = {n\\choose i} p^i (1 - p)^{n - i} $$\n",
    "\n",
    "$$ i = 0, 1, ..., n $$"
   ]
  },
  {
   "cell_type": "markdown",
   "metadata": {},
   "source": [
    "#### Función de distribución acumulada\n",
    "\n",
    "Utilizamos la siguiente propiedad de la distribución binomial, que deriva directamente de su función de probabilidad:\n",
    "\n",
    "$$ P\\{X = k + 1\\} = \\frac{p(n - k)}{(1 - p)(k + 1)}P\\{X = k\\} $$\n",
    "\n",
    "para calcular recursivamente\n",
    "\n",
    "$$ P\\{X \\leq i\\} = \\sum_{k = 0}^i {n\\choose k}p^k(1 - p)^{n - k} $$"
   ]
  },
  {
   "cell_type": "markdown",
   "metadata": {},
   "source": [
    "#### Valor de expectación (media)\n",
    "\n",
    "Aplicando la definición:\n",
    "\n",
    "$$\n",
    "\\begin{align*}\n",
    "    E[X^k] &= \\sum^{n}_{i = 0} i^k {n\\choose i} p^i(1 - p)^{n - i} \\\\\n",
    "           &= \\sum^{n}_{i = 1} i^k {n\\choose i} p^i(1 - p)^{n - i}\n",
    "\\end{align*}\n",
    "$$\n",
    "\n",
    "donde elevamos $ X^k $ solo porque nos va a servir para calcular la varianza. Usar la identidad\n",
    "\n",
    "$$ i{n\\choose i} = n{{n - 1}\\choose {i - 1}} $$\n",
    "\n",
    "nos da\n",
    "\n",
    "$$ E[X^k] = np\\sum^{n}_{i = 1} i^{k - 1} {{n - 1}\\choose {i - 1}} p^{i - 1}(1 - p)^{n - i} $$\n",
    "\n",
    "Cambiando el índice mudo $ i = j + 1 $:\n",
    "\n",
    "$$\n",
    "\\begin{align*}\n",
    "E[X^k] &= np\\sum^{n}_{j = 0} (j + 1)^{k - 1} {{n - 1}\\choose j} p^j(1 - p)^{n - 1 - j} \\\\\n",
    "       &= npE[(Y + 1)^{k - 1}] \n",
    "\\end{align*} \n",
    "$$\n",
    "\n",
    "donde $ Y $ es una variable aleatoria binomial con parámetros $ (n - 1, p) $. Si elegimos k = 1 en la ecuación anterior, obtenemos finalmente el **valor de expectación**:\n",
    "\n",
    "$$ E[X] = np $$"
   ]
  },
  {
   "cell_type": "markdown",
   "metadata": {},
   "source": [
    "#### Desviación estándar\n",
    "\n",
    "Si elegimos k = 2 en la ecuación para el valor de expectación, obtenemos\n",
    "\n",
    "$$ E[X^2] = npE[Y + 1] = np[(n - 1)p + 1] $$\n",
    "\n",
    "Aplicando la definición de varianza:\n",
    "\n",
    "$$ Var(X) = E[X^2] - (E[X])^2 = np[(n - 1)p + 1] - (np)^2 = np(1 - p) $$\n",
    "\n",
    "$$ \\Rightarrow \\sigma = \\sqrt{np(1 - p)} $$\n",
    "\n",
    "#### Ejemplos"
   ]
  },
  {
   "cell_type": "code",
   "execution_count": null,
   "metadata": {},
   "outputs": [],
   "source": []
  },
  {
   "cell_type": "markdown",
   "metadata": {},
   "source": [
    "### Distribución de Poisson\n",
    "\n",
    "Se dice que una variable aleatoria $ X $ que toma valores enteros no negativos es _de Poisson_ si tiene la función de probabilidad\n",
    "\n",
    "$$ P\\{X = i\\} = p(i) = e^{-\\lambda} \\frac{\\lambda^i}{i!} $$\n",
    "\n",
    "la cual es una aproximación de la función de probabilidad binomial cuando $ n $ es muy grande, $ p $ es pequeño y $ \\lambda = np $ es de tamaño _moderado_. $ \\lambda $ suele estimarse de manera empírica."
   ]
  },
  {
   "cell_type": "markdown",
   "metadata": {},
   "source": [
    "#### Función de distribución acumulada\n",
    "\n",
    "Utilizamos la siguiente propiedad de la distribución de Poisson, que deriva directamente de su función de probabilidad:\n",
    "\n",
    "$$ P\\{X = k + 1\\} = \\frac{\\lambda}{(k + 1)}P\\{X = k\\} $$\n",
    "\n",
    "para calcular recursivamente\n",
    "\n",
    "$$ P\\{X \\leq i\\} = \\sum_{k = 0}^i e^{-\\lambda} \\frac{\\lambda^k}{k!} $$"
   ]
  },
  {
   "cell_type": "markdown",
   "metadata": {},
   "source": [
    "#### Valor de expectación (media)\n",
    "\n",
    "Aplicando la definición:\n",
    "\n",
    "$$ E[X] = \\sum_{i = 0}^{\\infty} \\frac{ie^{-\\lambda}\\lambda^i}{i!} = \\lambda \\sum_{i = 1}^{\\infty} \\frac{e^{-\\lambda}\\lambda^{i - 1}}{(i - 1)!} $$\n",
    "\n",
    "Cambiando el índice mudo i = j + 1:\n",
    "\n",
    "$$ E[X] = \\lambda e^{-\\lambda} \\sum_{j = 0}^{\\infty} \\frac{\\lambda^j}{j!} = \\lambda e^{-\\lambda}(e^\\lambda)$$\n",
    "\n",
    "$$ \\Rightarrow E[X] = \\lambda $$\n",
    "\n",
    "Este resultado coincide con el de la distribución binomial si consideramos $ \\lambda = np $."
   ]
  },
  {
   "cell_type": "markdown",
   "metadata": {},
   "source": [
    "#### Desviación estándar\n",
    "\n",
    "Primero calculamos $ E[X^2] $:\n",
    "\n",
    "$$ E[X^2] = \\sum_{i = 0}^{\\infty} \\frac{i^2e^{-\\lambda}\\lambda^i}{i!} = \\lambda \\sum_{i = 1}^{\\infty} \\frac{ie^{-\\lambda}\\lambda^{i - 1}}{(i - 1)!} $$\n",
    "\n",
    "Cambiando el índice mudo i = j + 1:\n",
    "\n",
    "$$ E[X^2] = \\lambda \\sum_{j = 0}^{\\infty} \\frac{(j + 1)e^{-\\lambda} \\lambda^j}{j!} = \\lambda \\Big[ \\sum_{j = 0}^{\\infty} \\frac{je^{-\\lambda} \\lambda^j}{j!} + \\sum_{j = 0}^{\\infty} \\frac{e^{-\\lambda} \\lambda^j}{j!} \\Big] $$\n",
    "\n",
    "$$ \\Rightarrow E[X^2] = \\lambda(\\lambda + 1) $$\n",
    "\n",
    "Así, encontramos que $ Var(X) = \\lambda(\\lambda + 1) - \\lambda^2 = \\lambda $\n",
    "\n",
    "$$ \\Rightarrow \\sigma = \\sqrt{\\lambda} $$\n",
    "\n",
    "#### Ejemplos"
   ]
  },
  {
   "cell_type": "code",
   "execution_count": null,
   "metadata": {},
   "outputs": [],
   "source": []
  },
  {
   "cell_type": "markdown",
   "metadata": {},
   "source": [
    "### Distribución beta\n",
    "\n",
    "La densidad de probabilidad de una distribución beta es\n",
    "\n",
    "$$\n",
    "f(x) = \\left\\{\n",
    "        \\begin{array}{ll}\n",
    "            \\frac{1}{B(a, b)} x^{a - 1} (1 - x)^{b - 1} & \\quad 0 < x < 1 \\\\\n",
    "            0 & \\quad x \\leq 0, x \\geq 1\n",
    "        \\end{array}\n",
    "    \\right.\n",
    "$$\n",
    "\n",
    "donde\n",
    "\n",
    "$$ B(a, b) = \\int_{0}^{1} x^{a - 1} (1 - x)^{b - 1} dx = \\frac{\\Gamma(a)\\Gamma(b)}{\\Gamma(a + b)} $$\n",
    "\n",
    "es la _función beta_.\n",
    "\n",
    "Cuando $ a = b $ la densidad es simétrica. Si no es el caso, se sesga hacia la izquierda cuando $ b > a $ y a la derecha si $ a > b $.\n",
    "\n",
    "Esta distribución puede utilizarse para modelar algún fenómeno aleatorio que puede tomar valores dentro de un intervalo finito $ [c, d] $ que puede tranformarse a $ [0, 1] $ mediante un cambio de variable.\n",
    "\n",
    "**Nota:** La función gamma se define como\n",
    "\n",
    "$$ \\Gamma(\\alpha) = \\int_{0}^{\\infty} e^{-y}y^{\\alpha - 1} dy $$\n",
    "\n",
    "y cumple la propiedad\n",
    "\n",
    "$$ (\\alpha -1)\\Gamma(\\alpha - 1) $$"
   ]
  },
  {
   "cell_type": "markdown",
   "metadata": {},
   "source": [
    "#### Función de distribución acumulada\n",
    "\n",
    "$$\n",
    "\\begin{align*}\n",
    "    F[k] &= \\int_{-\\infty}^{k} f(x) dx = \\int_{0}^{k} \\frac{x^a (1 - x)^{b - 1}}{B(a, b)} dx \\\\\n",
    "         &= \\frac{B(k; a, b)}{B(a, b)} = I_k(a, b)\n",
    "\\end{align*}\n",
    "$$\n",
    "\n",
    "donde $ B(k; a, b) $ es la _función beta incompleta_ e $ I_k(a, b) $ es la _función beta regularizada_."
   ]
  },
  {
   "cell_type": "markdown",
   "metadata": {},
   "source": [
    "#### Valor de expectación\n",
    "\n",
    "$$\n",
    "\\begin{align*}\n",
    "    E[X] &= \\int_{-\\infty}^{\\infty} xf(x) dx = \\int_{0}^{1} \\frac{x^a (1 - x)^{b - 1}}{B(a, b)} dx \\\\\n",
    "         &= \\frac{1}{B(a, b)} B(a + 1, b) \\\\\n",
    "         &= \\frac{\\Gamma(a + b)}{\\Gamma(a)\\Gamma(b)} \\frac{\\Gamma(a + 1)\\Gamma(b)}{\\Gamma(a + b + 1)} \\\\\n",
    "         &= \\frac{\\Gamma(a + b)a\\Gamma(a)}{\\Gamma(a)(a + b)\\Gamma(a + b)} \\\\\n",
    "         &= \\frac{a}{a + b}\n",
    "\\end{align*}\n",
    "$$"
   ]
  },
  {
   "cell_type": "markdown",
   "metadata": {},
   "source": [
    "#### Desviación estándar\n",
    "\n",
    "$$\n",
    "\\begin{align*}\n",
    "    E[X^2] &= \\int_{-\\infty}^{\\infty} x^2f(x) dx = \\int_{0}^{1} \\frac{x^{a + 1} (1 - x)^{b - 1}}{B(a, b)} dx \\\\\n",
    "         &= \\frac{1}{B(a, b)} B(a + 2, b) \\\\\n",
    "         &= \\frac{\\Gamma(a + b)}{\\Gamma(a)\\Gamma(b)} \\frac{\\Gamma(a + 2)\\Gamma(b)}{\\Gamma(a + b + 2)} \\\\\n",
    "         &= \\frac{\\Gamma(a + b)a(a + 1)\\Gamma(a)}{\\Gamma(a)(a + b)(a + b + 1)\\Gamma(a + b)} \\\\\n",
    "         &= \\frac{a(a + 1)}{(a + b)(a + b + 1)}\n",
    "\\end{align*}\n",
    "$$\n",
    "\n",
    "$$\n",
    "\\begin{align*}\n",
    "    \\Rightarrow Var[X] &= \\frac{a(a + 1)}{(a + b)(a + b + 1)} - \\Big( \\frac{a}{a + b} \\Big)^2 \\\\\n",
    "                       &= \\frac{ab}{(a + b)^2(a + b + 1)}\n",
    "\\end{align*}\n",
    "$$\n",
    "\n",
    "$$\n",
    "\\Rightarrow \\sigma = \\frac{1}{a + b} \\sqrt{\\frac{ab}{a + b + 1}}\n",
    "$$\n",
    "\n",
    "#### Ejemplos"
   ]
  },
  {
   "cell_type": "code",
   "execution_count": null,
   "metadata": {},
   "outputs": [],
   "source": []
  },
  {
   "cell_type": "markdown",
   "metadata": {},
   "source": [
    "### Distribución $\\chi^2$\n",
    "\n",
    "La densidad de probabilidad de una distribución $\\chi^2$ o de Pearson es\n",
    "\n",
    "$$\n",
    "f(x; k) = \\left\\{\n",
    "        \\begin{array}{ll}\n",
    "            \\frac{1}{2^{k/2}\\Gamma(k/2)} x^{(k/2) - 1} e^{-x/2} & \\quad x > 0 \\\\\n",
    "            0 & \\quad x \\leq 0\n",
    "        \\end{array}\n",
    "    \\right.\n",
    "$$\n",
    "\n",
    "Esta distribución se utiliza en la llamada _prueba $ \\chi^2 $_, utilizada como prueba de independencia y de bondad de ajuste y en la estimación de varianzas. Las distribución también se utiliza en el problema de estimar la media de una población normalmente distribuida."
   ]
  },
  {
   "cell_type": "markdown",
   "metadata": {},
   "source": [
    "#### Función de distribución acumulada\n",
    "\n",
    "$$\n",
    "\\begin{align*}\n",
    "    F[a] &= \\int_{-\\infty}^{a} f(x) dx = \\int_{0}^{a} \\frac{x^{(k/2) - 1} e^{-x/2}}{2^{k/2}\\Gamma(k/2)} dx \\\\\n",
    "         &= \\frac{\\gamma(k/2, a/2)}{\\Gamma(k/2)}\n",
    "\\end{align*}\n",
    "$$\n",
    "\n",
    "donde $ \\gamma(p, q) $ es la _función gamma incompleta_."
   ]
  },
  {
   "cell_type": "markdown",
   "metadata": {},
   "source": [
    "#### Valor de expectación\n",
    "\n",
    "$$\n",
    "\\begin{align*}\n",
    "    E[X] &= \\int_{-\\infty}^{\\infty} xf(x) dx = \\int_{0}^{\\infty} \\frac{x^{(k/2)} e^{-x/2}}{2^{k/2}\\Gamma(k/2)} dx \\\\\n",
    "         &= \\frac{2\\Gamma(k/2 + 1)}{\\Gamma(k/2)} \\\\\n",
    "         &= \\frac{2(k/2)\\Gamma(k/2)}{\\Gamma(k/2)} \\\\\n",
    "         &= k\n",
    "\\end{align*}\n",
    "$$"
   ]
  },
  {
   "cell_type": "markdown",
   "metadata": {},
   "source": [
    "#### Desviación estándar\n",
    "\n",
    "$$\n",
    "\\begin{align*}\n",
    "    E[X^2] &= \\int_{-\\infty}^{\\infty} x^2f(x) dx = \\int_{0}^{\\infty} \\frac{x^{(k/2) + 1} e^{-x/2}}{2^{k/2}\\Gamma(k/2)} dx \\\\\n",
    "         &= \\frac{2\\Gamma(k/2 + 2)}{\\Gamma(k/2)} \\\\\n",
    "         &= \\frac{2(k/2 + 1)(k/2)\\Gamma(k/2)}{\\Gamma(k/2)} \\\\\n",
    "         &= k(k/2 +1)\n",
    "\\end{align*}\n",
    "$$\n",
    "\n",
    "$$\n",
    "\\begin{align*}\n",
    "    \\Rightarrow Var[X] &= k(k/2 + 1) - k^2 \\\\\n",
    "                       &= k^2/2 + k - k^2 \\\\\n",
    "                       &= k - k^2/2\n",
    "\\end{align*}\n",
    "$$\n",
    "\n",
    "$$\n",
    "\\Rightarrow \\sigma = 2k\n",
    "$$"
   ]
  },
  {
   "cell_type": "code",
   "execution_count": null,
   "metadata": {},
   "outputs": [],
   "source": []
  }
 ],
 "metadata": {
  "kernelspec": {
   "display_name": "Python 3",
   "language": "python",
   "name": "python3"
  },
  "language_info": {
   "codemirror_mode": {
    "name": "ipython",
    "version": 3
   },
   "file_extension": ".py",
   "mimetype": "text/x-python",
   "name": "python",
   "nbconvert_exporter": "python",
   "pygments_lexer": "ipython3",
   "version": "3.6.6"
  }
 },
 "nbformat": 4,
 "nbformat_minor": 2
}
