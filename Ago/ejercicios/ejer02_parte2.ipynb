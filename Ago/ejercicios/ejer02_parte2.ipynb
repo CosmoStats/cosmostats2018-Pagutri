{
 "cells": [
  {
   "cell_type": "markdown",
   "metadata": {},
   "source": [
    "# Ejercicio 2: Introducción a la probabilidad\n",
    "\n",
    "### Parte 2.\n",
    "\n",
    "Demostrar que las fórmulas para el ajuste por mínimos cuadrados se obtiene de la minimización de la función\n",
    "\n",
    "$ \\chi^2 = \\sum_{i = 1}^{N} (y_i - ax_i - b)^2 $."
   ]
  },
  {
   "cell_type": "markdown",
   "metadata": {},
   "source": [
    "Minimizar $\\chi^2$ es encontrar los parámetros $a$ y $b$ tales que $\\frac{d\\chi^2}{da} = 0$ y $\\frac{d\\chi^2}{db} = 0$. Por lo tanto, tenemos\n",
    "\n",
    "$\\frac{d\\chi^2}{da} = \\sum_{i = 1}^{N} 2(y_i - ax_i - b)(-x_i) = 0$\n",
    "\n",
    "$\\Rightarrow \\sum_{i = 1}^{N} x_i(y_i - ax_i - b) = 0 $\n",
    "\n",
    "$\\Rightarrow \\sum_{i = 1}^{N} (x_iy_i - ax_ix_i - bx_i) = 0 $"
   ]
  },
  {
   "cell_type": "markdown",
   "metadata": {},
   "source": [
    "Para simplificar la notación, definimos $ S_x = \\sum_{i = 1}^{N} x_i $, $ S_y = \\sum_{i = 1}^{N} y_i $,\n",
    "$ S_{xx} = \\sum_{i = 1}^{N} x_ix_i $ y $ S_{xy} = \\sum_{i = 1}^{N} x_iy_i $. Entonces\n",
    "\n",
    "$ S_{xy} = aS_{xx} + bS_x $,\n",
    "\n",
    "de donde podemos despejar $a$:\n",
    "\n",
    "$ a = \\frac{S_{xy} - bS_x}{S_{xx}} $"
   ]
  },
  {
   "cell_type": "markdown",
   "metadata": {},
   "source": [
    "Derivar con respecto a $b$ nos da\n",
    "\n",
    "$\\frac{d\\chi^2}{db} = \\sum_{i = 1}^{N} 2(y_i - ax_i - b)(-1) = 0$\n",
    "\n",
    "$\\Rightarrow \\sum_{i = 1}^{N} (y_i - ax_i - b) = 0 $\n",
    "\n",
    "$\\Rightarrow S_y = aS_x + bN $,\n",
    "\n",
    "de donde podemos despejar $a$ nuevamente:\n",
    "\n",
    "$ a = \\frac{S_y - bN}{S_x} $"
   ]
  },
  {
   "cell_type": "markdown",
   "metadata": {},
   "source": [
    "Podemos encontrar $b$ igualando las dos expresiones para $a$ anteriores.\n",
    "\n",
    "$ \\frac{S_{xy} - bS_x}{S_{xy}} = \\frac{S_y - bN}{S_x} $\n",
    "\n",
    "$ (S_{xy} - bS_x)S_x = (S_y - bN)S_{xy} $\n",
    "\n",
    "$ bNS_{xx} - bS_xS_x = S_yS_{xx} - S_xS_{xy} $\n",
    "\n",
    "$ b(NS_{xx} - S_xS_x) = S_yS_{xx} - S_xS_{xy} $\n",
    "\n",
    "$ \\Rightarrow b = \\frac{S_yS_{xx} - S_xS_{xy}}{NS_{xx} - S_xS_x} $"
   ]
  },
  {
   "cell_type": "markdown",
   "metadata": {},
   "source": [
    "Finalmente, sustituimos la expresión para b en cualquiera de las de a.\n",
    "\n",
    "$ a = \\frac{S_{xy} - (\\frac{S_yS_{xx} - S_xS_{xy}}{NS_{xx} - S_xS_x})S_x}{S_{xx}} $\n",
    "\n",
    "$ a = \\frac{S_{xy}(NS_{xx} - S_xS_x) - (S_yS_{xx} - S_xS_{xy})S_x}{S_{xx}(NS_{xx} - S_xS_x)} $\n",
    "\n",
    "$ a = \\frac{NS_{xy}S_{xx} - S_{xy}S_xS_x - S_yS_{xx}S_x + S_{xy}S_xS_x}{S_{xx}(NS_{xx} - S_xS_x)} $\n",
    "\n",
    "$ \\Rightarrow a = \\frac{NS_{xy} - S_xS_y}{NS_{xx} - S_xS_x} $"
   ]
  }
 ],
 "metadata": {
  "kernelspec": {
   "display_name": "Python 3",
   "language": "python",
   "name": "python3"
  },
  "language_info": {
   "codemirror_mode": {
    "name": "ipython",
    "version": 3
   },
   "file_extension": ".py",
   "mimetype": "text/x-python",
   "name": "python",
   "nbconvert_exporter": "python",
   "pygments_lexer": "ipython3",
   "version": "3.6.6"
  }
 },
 "nbformat": 4,
 "nbformat_minor": 2
}
