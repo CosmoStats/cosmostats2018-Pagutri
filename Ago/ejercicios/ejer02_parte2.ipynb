{
 "cells": [
  {
   "cell_type": "markdown",
   "metadata": {},
   "source": [
    "# Ejercicio 2: Introducción a la probabilidad\n",
    "\n",
    "### Parte 2.\n",
    "\n",
    "Demostrar que las fórmulas para el ajuste por mínimos cuadrados se obtiene de la minimización de la función\n",
    "\n",
    "$ \\chi^2 = \\sum (y_i - y(x_i, a, b))^2 / \\sigma_{y_i}^2 $"
   ]
  },
  {
   "cell_type": "code",
   "execution_count": null,
   "metadata": {},
   "outputs": [],
   "source": []
  }
 ],
 "metadata": {
  "kernelspec": {
   "display_name": "Python 3",
   "language": "python",
   "name": "python3"
  },
  "language_info": {
   "codemirror_mode": {
    "name": "ipython",
    "version": 3
   },
   "file_extension": ".py",
   "mimetype": "text/x-python",
   "name": "python",
   "nbconvert_exporter": "python",
   "pygments_lexer": "ipython3",
   "version": "3.6.6"
  }
 },
 "nbformat": 4,
 "nbformat_minor": 2
}
