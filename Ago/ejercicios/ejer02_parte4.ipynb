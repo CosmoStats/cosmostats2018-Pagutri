{
 "cells": [
  {
   "cell_type": "markdown",
   "metadata": {},
   "source": [
    "# Ejercicio 2: Introducción a la probabilidad\n",
    "\n",
    "## Parte 4.\n",
    "\n",
    "Investigar otras distribuciones de interés."
   ]
  },
  {
   "cell_type": "markdown",
   "metadata": {},
   "source": [
    "### Distribuciones discretas\n",
    "\n",
    "#### Distribución geométrica\n",
    "\n",
    "Supongamos que ensayos independientes de un experimento, cada uno con probabilidad $ 0 < p < 1 $ de ser un éxito, son llevados a cabo hasta que un éxito ocurre. Si $ X $ es el número de intentos requeridos, entonces\n",
    "\n",
    "$$\n",
    "P\\{X = n\\} = (1 - p)^{n - 1}p\n",
    "$$\n",
    "\n",
    "es la función de probabilidad de la variable geométrica $ X $. Su función de distribución acumulada es\n",
    "\n",
    "$$\n",
    "F(x) = P\\{X \\leq x\\} = \\sum_{k = 0}^{x} (1 - p)^{k - 1}p\n",
    "$$\n",
    "\n",
    "mientras que su valor de expectación y su varianza son, respectivamente\n",
    "\n",
    "$$\n",
    "E[X] = \\frac{1}{p}\n",
    "$$\n",
    "\n",
    "$$\n",
    "Var(X) = \\frac{1 - p}{p^2}\n",
    "$$"
   ]
  },
  {
   "cell_type": "markdown",
   "metadata": {},
   "source": [
    "#### Distribución binomial negativa\n",
    "\n",
    "Supongamos que ensayos independientes de un experimento, cada uno con probabilidad $ 0 < p < 1 $ de ser un éxito, son llevados a cabo hasta que un total de $ r $ éxitos ocurre. Si $ X $ es el número de intentos requeridos, entonces\n",
    "\n",
    "$$\n",
    "P\\{X = n\\} = {{n - 1}\\choose{r - 1}}p^r(1 - p)^{n - r}\n",
    "$$\n",
    "\n",
    "con $ n = r, r + 1, ... $, es la función de probabilidad de la variable bonomial negativa $ X $. Su función de distribución acumulada es\n",
    "\n",
    "$$\n",
    "F(x) = P\\{X \\leq x\\} = \\sum_{k = 0}^{x} {{k - 1}\\choose{r - 1}}p^r(1 - p)^{k - r}\n",
    "$$\n",
    "\n",
    "mientras que su valor de expectación y su varianza son, respectivamente\n",
    "\n",
    "$$\n",
    "E[X] = \\frac{r}{p}\n",
    "$$\n",
    "\n",
    "$$\n",
    "Var(X) = \\frac{r(1 - p)}{p^2}\n",
    "$$"
   ]
  },
  {
   "cell_type": "markdown",
   "metadata": {},
   "source": [
    "#### Distribución hipergeométrica\n",
    "\n",
    "Supongamos que una muestra de tamaño $ n $ es seleccionada aleatoriamente y sin reemplazo de una urna que contienen $ N $ bolas, de las cuales $ m $ son blancas y $ N - m $, negras. Si $ X $ es el número de bolas blancas en la muestra seleccionada, entonces\n",
    "\n",
    "$$\n",
    "P\\{X = i\\} = \\frac{{m\\choose i}{{N - m}\\choose{n - i}}}{N\\choose n}\n",
    "$$\n",
    "\n",
    "con $ i = 0, 1, ..., n $, es la función de probabilidad de la variable hipergeométrica $ X $. Su función de distribución acumulada es\n",
    "\n",
    "$$\n",
    "F(x) = P\\{X \\leq x\\} = \\sum_{k = 0}^{x} \\frac{{m\\choose k}{{N - m}\\choose{n - k}}}{N\\choose n}\n",
    "$$\n",
    "\n",
    "mientras que su valor de expectación y su varianza son, respectivamente\n",
    "\n",
    "$$\n",
    "E[X] = \\frac{nm}{N}\n",
    "$$\n",
    "\n",
    "$$\n",
    "Var(X) = np(1 - p)\\Big( 1 - \\frac{n - 1}{N - 1}\\Big)\n",
    "$$"
   ]
  },
  {
   "cell_type": "code",
   "execution_count": null,
   "metadata": {},
   "outputs": [],
   "source": []
  }
 ],
 "metadata": {
  "kernelspec": {
   "display_name": "Python 2",
   "language": "python",
   "name": "python2"
  },
  "language_info": {
   "codemirror_mode": {
    "name": "ipython",
    "version": 2
   },
   "file_extension": ".py",
   "mimetype": "text/x-python",
   "name": "python",
   "nbconvert_exporter": "python",
   "pygments_lexer": "ipython2",
   "version": "2.7.15"
  }
 },
 "nbformat": 4,
 "nbformat_minor": 2
}
