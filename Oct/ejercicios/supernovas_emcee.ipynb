{
 "cells": [
  {
   "cell_type": "markdown",
   "metadata": {},
   "source": [
    "# Estimación de parámetros cosmológicos con emcee\n",
    "\n",
    "Repetimos el ejercicio de las supernovas para estimar parámetros cosmológicos utilizando el módulo emcee."
   ]
  },
  {
   "cell_type": "code",
   "execution_count": 1,
   "metadata": {},
   "outputs": [],
   "source": [
    "import numpy as np\n",
    "import matplotlib.pyplot as plt\n",
    "import scipy.optimize as op\n",
    "from pylab import rcParams\n",
    "import emcee\n",
    "import corner\n",
    "\n",
    "rcParams['figure.figsize'] = (10, 6)"
   ]
  },
  {
   "cell_type": "code",
   "execution_count": 2,
   "metadata": {},
   "outputs": [],
   "source": [
    "# Extraer datos desde archivos\n",
    "cov_matrix = np.loadtxt('files/jla_mub_covmatrix.dat')\n",
    "z = np.loadtxt('files/jla_mub.txt', usecols = 0)\n",
    "mu = np.loadtxt('files/jla_mub.txt', usecols = 1)\n",
    "varianza = []\n",
    "\n",
    "# De cov_matrix solo nos interesa la varianza, que está en la diagonal\n",
    "for i in range(31):\n",
    "    varianza.append(cov_matrix[31 * i + i])\n",
    "    \n",
    "varianza = np.array(varianza)"
   ]
  },
  {
   "cell_type": "code",
   "execution_count": 3,
   "metadata": {},
   "outputs": [],
   "source": [
    "def s_func(omega_m):\n",
    "    return pow((1.0 - omega_m) / omega_m, 1.0 / 3.0)"
   ]
  },
  {
   "cell_type": "code",
   "execution_count": 4,
   "metadata": {},
   "outputs": [],
   "source": [
    "def eta(a, omega_m):\n",
    "    s = s_func(omega_m)\n",
    "    s2 = s**2.0\n",
    "    s3 = s**3.0\n",
    "    s4 = s2**2.0\n",
    "    coef = [-0.154, 0.4304, 0.19097, 0.066941]\n",
    "    \n",
    "    return 2.0 * np.sqrt(s3 + 1.0) * pow(1.0/a**4.0 + coef[0]*s/a**3.0 + coef[1]*s2/a**2.0 + \\\n",
    "           coef[2]*s3/a + coef[3]*s4, -1.0/8.0)"
   ]
  },
  {
   "cell_type": "code",
   "execution_count": 5,
   "metadata": {},
   "outputs": [],
   "source": [
    "def D_L(z, params):\n",
    "    H_0, omega_m = params\n",
    "    c = 3.0e5 # km/s\n",
    "    a0 = 1.0\n",
    "    a1 = 1.0 / (1.0 + z)\n",
    "    \n",
    "    return c * (1.0 + z) * (eta(a0, omega_m) - eta(a1, omega_m)) / H_0"
   ]
  },
  {
   "cell_type": "code",
   "execution_count": 6,
   "metadata": {},
   "outputs": [],
   "source": [
    "def dist_mu(z, params):\n",
    "    H_0 = params[0]\n",
    "    \n",
    "    return 25.0 - 5.0 * np.log10(H_0 / 100.0) + 5.0 * np.log10(D_L(z, params))"
   ]
  },
  {
   "cell_type": "code",
   "execution_count": 7,
   "metadata": {},
   "outputs": [],
   "source": [
    "def lnlike(params, mu_arr, z_arr, var_arr): # ln(L)\n",
    "    suma = np.sum(((mu_arr - dist_mu(z_arr, params)) / var_arr)**2.0)\n",
    "    return -0.5 * suma"
   ]
  },
  {
   "cell_type": "code",
   "execution_count": 8,
   "metadata": {},
   "outputs": [],
   "source": [
    "# Esta función es el logaritmo del prior\n",
    "def lnprior(params):\n",
    "    H_0, omega = params\n",
    "    if 50.0 < H_0 < 100.0 and 0.0 <= omega < 1.0:\n",
    "        return 0.0\n",
    "    return -np.inf"
   ]
  },
  {
   "cell_type": "code",
   "execution_count": 9,
   "metadata": {},
   "outputs": [],
   "source": [
    "# Esta función combina el logaritmo del prior con\n",
    "# la definición de lnlike de arriba para formar\n",
    "# la función completa log-probability\n",
    "def lnprob(params, z, mu, varianza):\n",
    "    lp = lnprior(params)\n",
    "    if not np.isfinite(lp):\n",
    "        return -np.inf\n",
    "    return lp + lnlike(params, z, mu, varianza)"
   ]
  },
  {
   "cell_type": "markdown",
   "metadata": {},
   "source": [
    "### Estimación por maximización del likelihood"
   ]
  },
  {
   "cell_type": "code",
   "execution_count": 10,
   "metadata": {},
   "outputs": [
    {
     "name": "stderr",
     "output_type": "stream",
     "text": [
      "/home/quaque/miniconda3/envs/paraemcee/lib/python2.7/site-packages/ipykernel_launcher.py:2: RuntimeWarning: invalid value encountered in double_scalars\n",
      "  \n",
      "/home/quaque/.local/lib/python2.7/site-packages/numpy/core/_methods.py:26: RuntimeWarning: invalid value encountered in reduce\n",
      "  return umr_maximum(a, axis, None, out, keepdims)\n"
     ]
    }
   ],
   "source": [
    "h0_true = 73.0 # Por poner algo\n",
    "omega_true = 0.3\n",
    "\n",
    "nll = lambda *args: -lnlike(*args)\n",
    "result = op.minimize(nll, [h0_true, omega_true], args = (z, mu, varianza))\n",
    "h0_ml, omega_ml = result[\"x\"]"
   ]
  },
  {
   "cell_type": "markdown",
   "metadata": {},
   "source": [
    "Ahora ya podemos muestrear nuestra distribución usando emcee. Comenzaremos inicializando los caminadores en una pequeña bola gaussiana alrededor del resultado que ya encontramos para el máximo likelihood:"
   ]
  },
  {
   "cell_type": "code",
   "execution_count": 11,
   "metadata": {},
   "outputs": [],
   "source": [
    "ndim, nwalkers = 2, 100\n",
    "pos = [result[\"x\"] + 1e-4*np.random.randn(ndim) for i in range(nwalkers)]"
   ]
  },
  {
   "cell_type": "markdown",
   "metadata": {},
   "source": [
    "Preparamos el muestreador:"
   ]
  },
  {
   "cell_type": "code",
   "execution_count": 12,
   "metadata": {},
   "outputs": [],
   "source": [
    "sampler = emcee.EnsembleSampler(nwalkers, ndim, lnprob, args=(z, mu, varianza))"
   ]
  },
  {
   "cell_type": "markdown",
   "metadata": {},
   "source": [
    "Y corremos MCMC con $500$ pasos."
   ]
  },
  {
   "cell_type": "code",
   "execution_count": 13,
   "metadata": {
    "scrolled": false
   },
   "outputs": [
    {
     "name": "stderr",
     "output_type": "stream",
     "text": [
      "/home/quaque/miniconda3/envs/paraemcee/lib/python2.7/site-packages/emcee/ensemble.py:335: RuntimeWarning: invalid value encountered in subtract\n",
      "  lnpdiff = (self.dim - 1.) * np.log(zz) + newlnprob - lnprob0\n",
      "/home/quaque/miniconda3/envs/paraemcee/lib/python2.7/site-packages/emcee/ensemble.py:336: RuntimeWarning: invalid value encountered in greater\n",
      "  accept = (lnpdiff > np.log(self._random.rand(len(lnpdiff))))\n"
     ]
    }
   ],
   "source": [
    "N_steps = 500\n",
    "sampler.run_mcmc(pos, N_steps);"
   ]
  },
  {
   "cell_type": "markdown",
   "metadata": {},
   "source": [
    "Las siguientes gráficas (_cola de gato_) muestran los valores de cada caminador en cada paso para cada parámetro. Las líneas grises señalan el valor real de los parámetros."
   ]
  },
  {
   "cell_type": "code",
   "execution_count": 15,
   "metadata": {},
   "outputs": [
    {
     "name": "stderr",
     "output_type": "stream",
     "text": [
      "/home/quaque/.local/lib/python2.7/site-packages/matplotlib/cbook/deprecation.py:107: MatplotlibDeprecationWarning: Adding an axes using the same arguments as a previous axes currently reuses the earlier instance.  In a future version, a new instance will always be created and returned.  Meanwhile, this warning can be suppressed, and the future behavior ensured, by passing a unique label to each axes instance.\n",
      "  warnings.warn(message, mplDeprecation, stacklevel=1)\n"
     ]
    },
    {
     "data": {
      "image/png": "[encoded data removed]",
      "text/plain": [
       "<Figure size 1080x720 with 2 Axes>"
      ]
     },
     "metadata": {
      "needs_background": "light"
     },
     "output_type": "display_data"
    }
   ],
   "source": [
    "pasos = np.arange(N_steps)\n",
    "h0_line = h0_true * np.ones(500)\n",
    "omega_line = omega_true * np.ones(500)\n",
    "plt.figure(figsize = (15,10))\n",
    "\n",
    "for i in range(nwalkers):\n",
    "    plt.subplot(2, 1, 1)\n",
    "    plt.plot(pasos, sampler.chain[i,:,0], color = 'black', linewidth = 0.5)\n",
    "    plt.plot(h0_line, color = 'gray')\n",
    "    plt.ylabel('$H_0$', fontsize = 18)\n",
    "\n",
    "    plt.subplot(2, 1, 2)\n",
    "    plt.plot(pasos, sampler.chain[i,:,1], color = 'black', linewidth = 0.5)\n",
    "    plt.plot(omega_line, color = 'gray')\n",
    "    plt.ylabel('$\\omega_m$', fontsize = 18)\n",
    "    plt.xlabel('step number',fontsize = 18)"
   ]
  },
  {
   "cell_type": "markdown",
   "metadata": {},
   "source": [
    "Ignoremos los primeros cincuenta pasos de la muestra:"
   ]
  },
  {
   "cell_type": "code",
   "execution_count": null,
   "metadata": {},
   "outputs": [],
   "source": [
    "samples = sampler.chain[:, 50:, :].reshape((-1, ndim))"
   ]
  },
  {
   "cell_type": "markdown",
   "metadata": {},
   "source": [
    "## Resultados\n",
    "\n",
    "Es fácil visualizar los resultados utilizando la llamada _gráfica de esquina_ (o de aguacates). Esta gráfica muestra las distribuciones marginalizadas de cada parámetro de manera independiente en los histogramas a lo largo de la diagonal, y las distribuciones marginalizadas dos-dimensionales en el resto de los paneles."
   ]
  },
  {
   "cell_type": "code",
   "execution_count": null,
   "metadata": {
    "scrolled": false
   },
   "outputs": [],
   "source": [
    "fig = corner.corner(samples, labels=[\"$H_0$\", \"$\\omega_m$\"],\n",
    "                      truths=[h0_true, omega_true])"
   ]
  }
 ],
 "metadata": {
  "kernelspec": {
   "display_name": "Python 2",
   "language": "python",
   "name": "python2"
  },
  "language_info": {
   "codemirror_mode": {
    "name": "ipython",
    "version": 2
   },
   "file_extension": ".py",
   "mimetype": "text/x-python",
   "name": "python",
   "nbconvert_exporter": "python",
   "pygments_lexer": "ipython2",
   "version": "2.7.15"
  }
 },
 "nbformat": 4,
 "nbformat_minor": 2
}
