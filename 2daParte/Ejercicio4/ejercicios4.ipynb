{
 "cells": [
  {
   "cell_type": "markdown",
   "metadata": {},
   "source": [
    "# Ejercicios 4\n",
    "\n",
    "## Entrega Jueves 29 de Noviembre\n",
    "\n",
    "1. Generar datos con “corrimiento al rojo” para los datos del Anillo en 2d. Para ello debemos crear mapa de velocidad: \n",
    "en una vecindad de $L/10$ de cada punto \"pivote\" en los datos, encontrar el punto más cercano y generar una velocidad \n",
    "para este punto pivote en la dirección del punto más cercano proporcional a su distancia $(v = 0.1dist)$. \n",
    "Guardar el nuevo punto con coordenadas\n",
    "\n",
    "$$\n",
    "\\mathbf{r}=(x, y+v\\cdot\\hat{j})\n",
    "$$"
   ]
  },
  {
   "cell_type": "code",
   "execution_count": 2,
   "metadata": {},
   "outputs": [],
   "source": [
    "import numpy as np\n",
    "import matplotlib.pyplot as plt\n",
    "import random\n",
    "import math\n",
    "import distros"
   ]
  },
  {
   "cell_type": "code",
   "execution_count": 3,
   "metadata": {},
   "outputs": [],
   "source": [
    "n_points = 1000\n",
    "r_int = 290.0\n",
    "r_ext = 300.0\n",
    "box_size = 1000.0\n",
    "bin_size = 5.0"
   ]
  },
  {
   "cell_type": "code",
   "execution_count": 5,
   "metadata": {},
   "outputs": [],
   "source": [
    "x_anillo, y_anillo = distros.anillo_dist(n_points, r_int, r_ext, box_size / 2.0, box_size / 2.0)"
   ]
  },
  {
   "cell_type": "code",
   "execution_count": null,
   "metadata": {},
   "outputs": [],
   "source": []
  },
  {
   "cell_type": "code",
   "execution_count": null,
   "metadata": {},
   "outputs": [],
   "source": []
  },
  {
   "cell_type": "markdown",
   "metadata": {},
   "source": [
    "2. Cambiar el código de la función de correlación con estimador de Landy-Salay, para que sea anisotrópico y guarde la componente  de cada distancia en X y Y. \n",
    "\n",
    "   a) Con este código calcular la función de correlación anisotrópica del ejercicio anterior \n",
    "   y graficarla como gráfica de densidad en $2d$ (se puede usar imshow de matplotlib).\n",
    "   \n",
    "   b) (BONUS) Descomponer en la base de Legendre para encontrar el monopolo, cuadrupolo y hexadecapolo. \n",
    "   Graficarlos todos en un mismo plot. [Para realizar este ejercicio debes cambiar la función de correlación a coordenadas polares]"
   ]
  },
  {
   "cell_type": "code",
   "execution_count": null,
   "metadata": {},
   "outputs": [],
   "source": []
  }
 ],
 "metadata": {
  "kernelspec": {
   "display_name": "Python 3",
   "language": "python",
   "name": "python3"
  },
  "language_info": {
   "codemirror_mode": {
    "name": "ipython",
    "version": 3
   },
   "file_extension": ".py",
   "mimetype": "text/x-python",
   "name": "python",
   "nbconvert_exporter": "python",
   "pygments_lexer": "ipython3",
   "version": "3.6.6"
  }
 },
 "nbformat": 4,
 "nbformat_minor": 2
}
