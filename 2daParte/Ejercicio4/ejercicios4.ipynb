{
 "cells": [
  {
   "cell_type": "markdown",
   "metadata": {},
   "source": [
    "# Ejercicios 4\n",
    "\n",
    "## Entrega Jueves 29 de Noviembre\n",
    "\n",
    "1. Generar datos con “corrimiento al rojo” para los datos del Anillo en 2d. Para ello debemos crear mapa de velocidad: \n",
    "en una vecindad de $L/10$ de cada punto \"pivote\" en los datos, encontrar el punto más cercano y generar una velocidad \n",
    "para este punto pivote en la dirección del punto más cercano proporcional a su distancia $(v = 0.1dist)$. \n",
    "Guardar el nuevo punto con coordenadas\n",
    "\n",
    "$$\n",
    "\\mathbf{r}=(x, y+v\\cdot\\hat{j})\n",
    "$$\n",
    "\n",
    "Sea $\\vec{r_1}$ mi punto pivote y $\\vec{r_2}$ el punto más cercano a $\\vec{r_1}$. Queremos que $\\vec{v}$ vaya en la dirección de $(\\vec{r_2} - \\vec{r_1})$ (unitario), por lo que\n",
    "\n",
    "$$\n",
    "\\vec{v}\\cdot\\hat{j} = v\\frac{(\\vec{r_2} - \\vec{r_1})}{|\\vec{r_2} - \\vec{r_1}|}\\cdot\\hat{j} = (0.1dist)\\frac{(\\vec{r_2} - \\vec{r_1})}{dist}\\cdot\\hat{j} = 0.1(y_2 - y_1)\n",
    "$$"
   ]
  },
  {
   "cell_type": "code",
   "execution_count": 20,
   "metadata": {},
   "outputs": [],
   "source": [
    "import numpy as np\n",
    "import matplotlib.pyplot as plt\n",
    "import random\n",
    "import math\n",
    "import distros\n",
    "from scipy import spatial"
   ]
  },
  {
   "cell_type": "code",
   "execution_count": 60,
   "metadata": {},
   "outputs": [],
   "source": [
    "n_points = 3\n",
    "r_int = 290.0\n",
    "r_ext = 300.0\n",
    "box_size = 1000.0\n",
    "cte_prop = 5.0"
   ]
  },
  {
   "cell_type": "code",
   "execution_count": 61,
   "metadata": {},
   "outputs": [
    {
     "name": "stdout",
     "output_type": "stream",
     "text": [
      "[[537.48004405 210.94634361]\n",
      " [357.43719238 245.89295697]\n",
      " [200.94700486 520.51511963]]\n"
     ]
    }
   ],
   "source": [
    "x_anillo, y_anillo = distros.anillo_dist(n_points, r_int, r_ext, box_size / 2.0, box_size / 2.0)\n",
    "points = np.vstack((x_anillo, y_anillo)).T\n",
    "y_redshift = []"
   ]
  },
  {
   "cell_type": "code",
   "execution_count": 64,
   "metadata": {},
   "outputs": [
    {
     "name": "stdout",
     "output_type": "stream",
     "text": [
      "210.94634360637093 210.94634360637093\n",
      "245.89295696985087 245.89295696985087\n",
      "520.5151196252516 520.5151196252516\n"
     ]
    }
   ],
   "source": [
    "for pivot in points:\n",
    "    dist_of_nearst_pt, index_of_nearst_pt = spatial.KDTree(points).query(pivot)\n",
    "    y1 = pivot[1]\n",
    "    y2 = points[index_of_nearst_pt][1]\n",
    "    print(y1, y2)\n",
    "    y_new = y1 + cte_prop * (y2 - y1)\n",
    "    y_redshift.append(y_new)"
   ]
  },
  {
   "cell_type": "code",
   "execution_count": 63,
   "metadata": {},
   "outputs": [
    {
     "data": {
      "text/plain": [
       "[<matplotlib.lines.Line2D at 0x7fb06180bfd0>]"
      ]
     },
     "execution_count": 63,
     "metadata": {},
     "output_type": "execute_result"
    },
    {
     "data": {
      "image/png": "[encoded data removed]",
      "text/plain": [
       "<Figure size 432x288 with 1 Axes>"
      ]
     },
     "metadata": {},
     "output_type": "display_data"
    }
   ],
   "source": [
    "#plt.xlim([200.0, 800.0])\n",
    "#plt.ylim([600.0, 800.0])\n",
    "plt.plot(x_anillo, y_anillo, 'ko', label = 'Punto originales')\n",
    "plt.plot(x_anillo, y_redshift, 'r,', label = 'Puntos con corrimiento al rojo')\n",
    "#plt.legend(fontsize = 16)"
   ]
  },
  {
   "cell_type": "markdown",
   "metadata": {},
   "source": [
    "2. Cambiar el código de la función de correlación con estimador de Landy-Salay, para que sea anisotrópico y guarde la componente  de cada distancia en X y Y. \n",
    "\n",
    "   a) Con este código calcular la función de correlación anisotrópica del ejercicio anterior \n",
    "   y graficarla como gráfica de densidad en $2d$ (se puede usar imshow de matplotlib).\n",
    "   \n",
    "   b) (BONUS) Descomponer en la base de Legendre para encontrar el monopolo, cuadrupolo y hexadecapolo. \n",
    "   Graficarlos todos en un mismo plot. [Para realizar este ejercicio debes cambiar la función de correlación a coordenadas polares]"
   ]
  },
  {
   "cell_type": "code",
   "execution_count": null,
   "metadata": {},
   "outputs": [],
   "source": []
  }
 ],
 "metadata": {
  "kernelspec": {
   "display_name": "Python 3",
   "language": "python",
   "name": "python3"
  },
  "language_info": {
   "codemirror_mode": {
    "name": "ipython",
    "version": 3
   },
   "file_extension": ".py",
   "mimetype": "text/x-python",
   "name": "python",
   "nbconvert_exporter": "python",
   "pygments_lexer": "ipython3",
   "version": "3.6.6"
  }
 },
 "nbformat": 4,
 "nbformat_minor": 2
}
