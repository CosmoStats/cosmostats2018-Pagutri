{
 "cells": [
  {
   "cell_type": "markdown",
   "metadata": {},
   "source": [
    "# Ejercicios 3\n",
    "\n",
    "## Entrega Jueves 22 de Noviembre\n",
    "\n",
    "1. Encuentra el espectro de potencias en 1d, 2d y 3d para la función de correlación \n",
    "\n",
    "<img src=\"https://latex.codecogs.com/gif.latex?\\xi(r)=\\left(\\frac{r}{r_0}\\right)^{-\\gamma}\" title=\"\\xi(r)=\\left(\\frac{r}{r_0}\\right)^{-\\gamma}\" /> \n",
    "\n",
    "2. Calcula el espectro de potencias para las distribuciones que realizaste en el ejercicio 2 (punto 1), usando la derivación que vimos en clase\n",
    "\n",
    "<img src=\"https://latex.codecogs.com/gif.latex?\\hat{P}(\\mathbf{k})=V\\left&space;|&space;\\frac{1}{N}\\sum_{i=gal}^N&space;e^{i&space;\\mathbf{k\\cdot&space;x}}\\right&space;|^2&space;-\\frac{V}{N}\" title=\"\\hat{P}(\\mathbf{k})=V\\left | \\frac{1}{N}\\sum_{i=gal}^N e^{i \\mathbf{k\\cdot x}}\\right |^2 -\\frac{V}{N}\" />\n",
    "\n",
    "  a) Determina un rango en k y usa 20-100 bins en kx y ky. \n",
    "  \n",
    "  b) Obten la transformada de Fourier de estos espectros y comparas con las funciones de correlación que obtuviste en el ejercicio 2. \n",
    "  Ajusta el rango en k y sus bins para ver si la transformada de Fourier de inciso b) se acerca más a la función de correlación.\n",
    "  "
   ]
  },
  {
   "cell_type": "code",
   "execution_count": null,
   "metadata": {},
   "outputs": [],
   "source": []
  }
 ],
 "metadata": {
  "kernelspec": {
   "display_name": "Python 3",
   "language": "python",
   "name": "python3"
  },
  "language_info": {
   "codemirror_mode": {
    "name": "ipython",
    "version": 3
   },
   "file_extension": ".py",
   "mimetype": "text/x-python",
   "name": "python",
   "nbconvert_exporter": "python",
   "pygments_lexer": "ipython3",
   "version": "3.6.6"
  }
 },
 "nbformat": 4,
 "nbformat_minor": 2
}
