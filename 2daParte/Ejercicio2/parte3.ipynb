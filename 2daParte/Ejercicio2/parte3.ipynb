{
 "cells": [
  {
   "cell_type": "markdown",
   "metadata": {},
   "source": [
    "# Ejercicios 2\n",
    "\n",
    "## Parte 3\n",
    "\n",
    "_Nota:_ Todas las funciones siguientes suponen mismo tamaño de bin y de caja para DD, RR y DR.\n",
    "\n",
    "### 3. Calcula la función de correlación para cada una de las cajas de datos del inciso anterior, usando los estimadores de\n",
    "\n",
    "#### a) Peebles - Hauser\n",
    "\n",
    "El estimador de Peebles-Hauser es\n",
    "\n",
    "$$\n",
    "\\frac{n_D(n_d - 1)DD}{n_R(n_R - 1)RR} - 1\n",
    "$$\n",
    "\n",
    "donde las $n$ son el número de puntos de la distibución aleatoria y la de datos, respectivamente, y $DD$ y $RR$ son los histogramas de las distribuciones."
   ]
  },
  {
   "cell_type": "code",
   "execution_count": 1,
   "metadata": {},
   "outputs": [],
   "source": [
    "import numpy as np\n",
    "import matplotlib.pyplot as plt\n",
    "import random\n",
    "import math\n",
    "import distros # Funciones creadas en las partes 1 y 2 de este ejercicio"
   ]
  },
  {
   "cell_type": "code",
   "execution_count": 2,
   "metadata": {},
   "outputs": [],
   "source": [
    "def peebles_hauser(DD, nD, nR, box_size, bin_size):\n",
    "    x_RR, y_RR = distros.create_rand_dist(box_size, nR)\n",
    "    dist_RR, histo_RR = distros.save_hist(x_RR, y_RR, box_size, bin_size)\n",
    "    RR = histo_RR[0]\n",
    "    \n",
    "    return nD * (nD - 1.0) * DD / (nR * (nR - 1.0) * RR) - 1.0"
   ]
  },
  {
   "cell_type": "markdown",
   "metadata": {},
   "source": [
    "Malla cuadriculada."
   ]
  },
  {
   "cell_type": "code",
   "execution_count": 3,
   "metadata": {},
   "outputs": [],
   "source": [
    "box_size = 1000\n",
    "net_size = 10.0\n",
    "bin_size = 50.0\n",
    "n_points = 1000"
   ]
  },
  {
   "cell_type": "code",
   "execution_count": 4,
   "metadata": {},
   "outputs": [
    {
     "ename": "KeyboardInterrupt",
     "evalue": "",
     "output_type": "error",
     "traceback": [
      "\u001b[0;31m---------------------------------------------------------------------------\u001b[0m",
      "\u001b[0;31mKeyboardInterrupt\u001b[0m                         Traceback (most recent call last)",
      "\u001b[0;32m<ipython-input-4-2882e074ef72>\u001b[0m in \u001b[0;36m<module>\u001b[0;34m()\u001b[0m\n\u001b[1;32m      1\u001b[0m \u001b[0mx_malla\u001b[0m\u001b[0;34m,\u001b[0m \u001b[0my_malla\u001b[0m \u001b[0;34m=\u001b[0m \u001b[0mdistros\u001b[0m\u001b[0;34m.\u001b[0m\u001b[0munif_cuad_dist\u001b[0m\u001b[0;34m(\u001b[0m\u001b[0mbox_size\u001b[0m\u001b[0;34m,\u001b[0m \u001b[0mnet_size\u001b[0m\u001b[0;34m)\u001b[0m\u001b[0;34m\u001b[0m\u001b[0m\n\u001b[0;32m----> 2\u001b[0;31m \u001b[0mdist_malla\u001b[0m\u001b[0;34m,\u001b[0m \u001b[0mhist_malla\u001b[0m \u001b[0;34m=\u001b[0m \u001b[0mdistros\u001b[0m\u001b[0;34m.\u001b[0m\u001b[0msave_hist\u001b[0m\u001b[0;34m(\u001b[0m\u001b[0mx_malla\u001b[0m\u001b[0;34m,\u001b[0m \u001b[0my_malla\u001b[0m\u001b[0;34m,\u001b[0m \u001b[0mbox_size\u001b[0m\u001b[0;34m,\u001b[0m \u001b[0mbin_size\u001b[0m\u001b[0;34m)\u001b[0m\u001b[0;34m\u001b[0m\u001b[0m\n\u001b[0m\u001b[1;32m      3\u001b[0m \u001b[0mfrec_malla\u001b[0m \u001b[0;34m=\u001b[0m \u001b[0mhist_malla\u001b[0m\u001b[0;34m[\u001b[0m\u001b[0;36m1\u001b[0m\u001b[0;34m]\u001b[0m\u001b[0;34m\u001b[0m\u001b[0m\n\u001b[1;32m      4\u001b[0m \u001b[0mbins_malla\u001b[0m \u001b[0;34m=\u001b[0m \u001b[0mhist_malla\u001b[0m\u001b[0;34m[\u001b[0m\u001b[0;36m0\u001b[0m\u001b[0;34m]\u001b[0m\u001b[0;34m\u001b[0m\u001b[0m\n\u001b[1;32m      5\u001b[0m \u001b[0mbins_malla\u001b[0m \u001b[0;34m=\u001b[0m \u001b[0mbins_mall\u001b[0m\u001b[0;34m[\u001b[0m\u001b[0;34m:\u001b[0m\u001b[0;34m-\u001b[0m\u001b[0;36m1\u001b[0m\u001b[0;34m]\u001b[0m\u001b[0;34m\u001b[0m\u001b[0m\n",
      "\u001b[0;32m~/Documents/cosmostats2018-Pagutri/2daParte/Ejercicio2/distros.py\u001b[0m in \u001b[0;36msave_hist\u001b[0;34m(x_data, y_data, box_size, bin_size)\u001b[0m\n\u001b[1;32m    142\u001b[0m         \u001b[0;32mfor\u001b[0m \u001b[0mj\u001b[0m \u001b[0;32min\u001b[0m \u001b[0mrange\u001b[0m\u001b[0;34m(\u001b[0m\u001b[0mi\u001b[0m \u001b[0;34m+\u001b[0m \u001b[0;36m1\u001b[0m\u001b[0;34m,\u001b[0m \u001b[0mn_points\u001b[0m\u001b[0;34m)\u001b[0m\u001b[0;34m:\u001b[0m\u001b[0;34m\u001b[0m\u001b[0m\n\u001b[1;32m    143\u001b[0m             \u001b[0mdistance\u001b[0m \u001b[0;34m=\u001b[0m \u001b[0mmath\u001b[0m\u001b[0;34m.\u001b[0m\u001b[0msqrt\u001b[0m\u001b[0;34m(\u001b[0m\u001b[0;34m(\u001b[0m\u001b[0mx_data\u001b[0m\u001b[0;34m[\u001b[0m\u001b[0mi\u001b[0m\u001b[0;34m]\u001b[0m \u001b[0;34m-\u001b[0m \u001b[0mx_data\u001b[0m\u001b[0;34m[\u001b[0m\u001b[0mj\u001b[0m\u001b[0;34m]\u001b[0m\u001b[0;34m)\u001b[0m\u001b[0;34m**\u001b[0m\u001b[0;36m2\u001b[0m \u001b[0;34m+\u001b[0m \u001b[0;34m(\u001b[0m\u001b[0my_data\u001b[0m\u001b[0;34m[\u001b[0m\u001b[0mi\u001b[0m\u001b[0;34m]\u001b[0m \u001b[0;34m-\u001b[0m \u001b[0my_data\u001b[0m\u001b[0;34m[\u001b[0m\u001b[0mj\u001b[0m\u001b[0;34m]\u001b[0m\u001b[0;34m)\u001b[0m\u001b[0;34m**\u001b[0m\u001b[0;36m2\u001b[0m\u001b[0;34m)\u001b[0m\u001b[0;34m\u001b[0m\u001b[0m\n\u001b[0;32m--> 144\u001b[0;31m             \u001b[0mdistances\u001b[0m\u001b[0;34m.\u001b[0m\u001b[0mappend\u001b[0m\u001b[0;34m(\u001b[0m\u001b[0mdistance\u001b[0m\u001b[0;34m)\u001b[0m\u001b[0;34m\u001b[0m\u001b[0m\n\u001b[0m\u001b[1;32m    145\u001b[0m \u001b[0;34m\u001b[0m\u001b[0m\n\u001b[1;32m    146\u001b[0m     \u001b[0mhisto\u001b[0m \u001b[0;34m=\u001b[0m \u001b[0mnp\u001b[0m\u001b[0;34m.\u001b[0m\u001b[0mhistogram\u001b[0m\u001b[0;34m(\u001b[0m\u001b[0mdistances\u001b[0m\u001b[0;34m,\u001b[0m \u001b[0mbins\u001b[0m \u001b[0;34m=\u001b[0m \u001b[0mbins\u001b[0m\u001b[0;34m)\u001b[0m\u001b[0;34m\u001b[0m\u001b[0m\n",
      "\u001b[0;31mKeyboardInterrupt\u001b[0m: "
     ]
    }
   ],
   "source": [
    "x_malla, y_malla = distros.unif_cuad_dist(box_size, net_size)\n",
    "dist_malla, hist_malla = distros.save_hist(x_malla, y_malla, box_size, bin_size)\n",
    "frec_malla = hist_malla[1]\n",
    "bins_malla = hist_malla[0]\n",
    "bins_malla = bins_malla[:-1]\n",
    "n_malla = len(x_malla)\n",
    "f_corr = peebles_hauser(frec_malla, n_malla, 10 * n_malla, box_size, bin_size)"
   ]
  },
  {
   "cell_type": "markdown",
   "metadata": {},
   "source": [
    "Tarda mucho, porque debe calcular más o menos $10^{10}$ distancias para hacer RR.\n",
    "\n",
    "Disco."
   ]
  },
  {
   "cell_type": "code",
   "execution_count": 3,
   "metadata": {},
   "outputs": [],
   "source": [
    "n_points = 1000\n",
    "radius = 300.0\n",
    "box_size = 1000\n",
    "bin_size = 50.0"
   ]
  },
  {
   "cell_type": "code",
   "execution_count": 5,
   "metadata": {},
   "outputs": [],
   "source": [
    "x_disco, y_disco = distros.unif_disc_dist(n_points, radius, box_size / 2.0, box_size / 2.0)\n",
    "dist_disco, hist_disco = distros.save_hist(x_disco, y_disco, box_size, bin_size)\n",
    "frec_disco = hist_disco[0]\n",
    "bins_disco = hist_disco[1]\n",
    "bins_disco = bins_disco[:-1]\n",
    "n_disco = len(x_disco)\n",
    "f_corr = peebles_hauser(frec_disco, n_disco, 10 * n_disco, box_size, bin_size)"
   ]
  },
  {
   "cell_type": "markdown",
   "metadata": {},
   "source": [
    "Misma historia. $10^8$ distancias. Creo que voy a tener que paralelizar o buscar una forma de optimizar el cálculo de las distancias..."
   ]
  },
  {
   "cell_type": "markdown",
   "metadata": {},
   "source": [
    "#### b) Davis-Peebles\n",
    "\n",
    "El estimados de Davis-Peebles es\n",
    "\n",
    "$$\n",
    "\\frac{1}{n_{est}}\\frac{DD}{DR} - 1\n",
    "$$\n",
    "\n",
    "donde $n_{est} = \\frac{<D>}{<R>}$ es la razón entre los promedios de las distancias entre los puntos de ambas distribuciones y DR es el histograma de las distancias entre los puntos de los datos y del random."
   ]
  },
  {
   "cell_type": "code",
   "execution_count": null,
   "metadata": {},
   "outputs": [],
   "source": [
    "def davis_peebles(x_data, y_data, nR, box_size, bin_size):\n",
    "    x_RR, y_RR = distros.create_rand_dist(box_size, nR)\n",
    "    dist_RR, histo_RR = distros.save_hist(x_RR, y_RR, box_size, bin_size)\n",
    "    dist_DD, histo_DD = distros.save_hist(x_data, y_data, box_size, bin_size)\n",
    "    dist_DR, histo_DR = distros.save_hist_DR(x_data, y_data, box_size, x_RR, y_RR, box_size, bin_size)\n",
    "    inv_nest = np.average(dist_RR) / np.average(dist_DD)\n",
    "    DD = histo_DD[0]\n",
    "    DR = histo_DR[0]\n",
    "    \n",
    "    return inv_nest * DD / DR - 1.0"
   ]
  },
  {
   "cell_type": "markdown",
   "metadata": {},
   "source": [
    "#### c) Hamilton\n",
    "\n",
    "El estimador de Hamilton es\n",
    "\n",
    "$$\n",
    "\\frac{DDRR}{DR}\n",
    "$$"
   ]
  },
  {
   "cell_type": "code",
   "execution_count": null,
   "metadata": {},
   "outputs": [],
   "source": [
    "def hamilton(x_data, y_data, nR, box_size, bin_size):\n",
    "    x_RR, y_RR = distros.create_rand_dist(box_size, nR)\n",
    "    dist_RR, histo_RR = distros.save_hist(x_RR, y_RR, box_size, bin_size)\n",
    "    dist_DD, histo_DD = distros.save_hist(x_data, y_data, box_size, bin_size)\n",
    "    dist_DR, histo_DR = distros.save_hist_DR(x_data, y_data, box_size, x_RR, y_RR, box_size, bin_size)\n",
    "    RR = histo_RR[0]\n",
    "    DD = histo_DD[0]\n",
    "    DR = histo_DR[0]\n",
    "    \n",
    "    return RR * DD / DR"
   ]
  },
  {
   "cell_type": "markdown",
   "metadata": {},
   "source": [
    "#### d) Landy-Szalay\n",
    "\n",
    "El estimador de Landy-Szalay es\n",
    "\n",
    "$$\n",
    "\\frac{1}{n_{est}^2}\\frac{DD}{RR} + 1\n",
    "$$"
   ]
  },
  {
   "cell_type": "code",
   "execution_count": 1,
   "metadata": {},
   "outputs": [],
   "source": [
    "def landy_szalay(x_data, y_data, nR, box_size, bin_size):\n",
    "    x_RR, y_RR = distros.create_rand_dist(box_size, nR)\n",
    "    dist_RR, histo_RR = distros.save_hist(x_RR, y_RR, box_size, bin_size)\n",
    "    dist_DD, histo_DD = distros.save_hist(x_data, y_data, box_size, bin_size)\n",
    "    inv_nest = np.average(dist_RR) / np.average(dist_DD)\n",
    "    DD = histo_DD[0]\n",
    "    RR = histo_RR[0]\n",
    "    \n",
    "    return inv_nest**2 * DD / RR + 1.0"
   ]
  },
  {
   "cell_type": "markdown",
   "metadata": {},
   "source": [
    "### y recuerda escoger un bin adecuado para ver las señales. Utiliza 10 veces el número de puntos en las muestras aleatorias que con los datos."
   ]
  }
 ],
 "metadata": {
  "kernelspec": {
   "display_name": "Python 3",
   "language": "python",
   "name": "python3"
  },
  "language_info": {
   "codemirror_mode": {
    "name": "ipython",
    "version": 3
   },
   "file_extension": ".py",
   "mimetype": "text/x-python",
   "name": "python",
   "nbconvert_exporter": "python",
   "pygments_lexer": "ipython3",
   "version": "3.7.0"
  }
 },
 "nbformat": 4,
 "nbformat_minor": 2
}
