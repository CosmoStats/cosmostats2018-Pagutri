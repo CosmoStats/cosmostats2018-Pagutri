{
 "cells": [
  {
   "cell_type": "markdown",
   "metadata": {},
   "source": [
    "# Transformada de Fourier\n",
    "\n",
    "Este código hace la transformada discreta de Fourier (DFT) $\\hat{f}$ de una función $f$ conocida en un número $N$ de puntos, de acuerdo con las fórmulas\n",
    "\n",
    "$$\n",
    "\\hat{f}_m = \\sum_{n = 0}^{N - 1} c_ne^{2\\pi i\\frac{nm}{N}}\n",
    "$$\n",
    "\n",
    "$$\n",
    "c_n = \\frac{1}{N} \\sum_{k = 0}^{N - 1} f_ke^{-2\\pi i\\frac{nk}{N}}\n",
    "$$\n",
    "\n",
    "donde $f_k = f(x_0 + k\\frac{L}{N})$, con $x_0$ el primer punto en que se conoce $f$ y $L$ la longitud del intervalo en que se conocen los puntos de $f$."
   ]
  },
  {
   "cell_type": "code",
   "execution_count": null,
   "metadata": {},
   "outputs": [],
   "source": [
    "import numpy as np\n",
    "from cmath import exp\n",
    "from math import pi"
   ]
  },
  {
   "cell_type": "code",
   "execution_count": 2,
   "metadata": {},
   "outputs": [
    {
     "name": "stdout",
     "output_type": "stream",
     "text": [
      "<class 'complex'> <class 'complex'>\n"
     ]
    }
   ],
   "source": [
    "a = complex(2, 3)\n",
    "b = 2 + 3j\n",
    "\n",
    "print(type(a), type(b))"
   ]
  },
  {
   "cell_type": "code",
   "execution_count": null,
   "metadata": {},
   "outputs": [],
   "source": [
    "# Esta función calcula el n-ésimo coeficiente de la transformada\n",
    "def coeficiente_de_fourier(f, delta, N, n):\n",
    "    suma_k = 0.0\n",
    "    for k in range(N):\n",
    "        suma_k += f[k] * exp(-2.0 * pi * n * k / N)\n",
    "    return suma_k / N"
   ]
  },
  {
   "cell_type": "code",
   "execution_count": null,
   "metadata": {},
   "outputs": [],
   "source": [
    "# Esta función calcula un punto de la tranformada de Fourier\n",
    "# de una función discretizada\n",
    "def tranformada_de_fourier(funcion, delta, m): # delta es la distancia entre los puntos de f conocidos\n",
    "    N = len(funcion)\n",
    "    f_hat_m = 0.0\n",
    "    for n in range(N):\n",
    "        f_hat_m += coeficiente_de_fourier(f, delta, N, n) * exp(2.0 * pi * n * m / N)\n",
    "    return f_hat_m"
   ]
  }
 ],
 "metadata": {
  "kernelspec": {
   "display_name": "Python 3",
   "language": "python",
   "name": "python3"
  },
  "language_info": {
   "codemirror_mode": {
    "name": "ipython",
    "version": 3
   },
   "file_extension": ".py",
   "mimetype": "text/x-python",
   "name": "python",
   "nbconvert_exporter": "python",
   "pygments_lexer": "ipython3",
   "version": "3.7.0"
  }
 },
 "nbformat": 4,
 "nbformat_minor": 2
}
