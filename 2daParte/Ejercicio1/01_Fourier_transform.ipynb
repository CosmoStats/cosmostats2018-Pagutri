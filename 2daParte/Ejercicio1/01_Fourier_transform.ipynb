{
 "cells": [
  {
   "cell_type": "markdown",
   "metadata": {},
   "source": [
    "# Transformada de Fourier\n",
    "\n",
    "Sea $f(t)$ una función conocida en $N$ puntos separados uniformemente dentro del intervalo $[a, b]$, con $a = t_0$ y $b = t_0 + L$. Es decir, una función _discretizada_. La transformada discreta de Fourier (DFT) $\\hat{f}$ de $f$ es el análogo discreto de la serie de Fourier de una función continua. Se obtiene con:\n",
    "\n",
    "$$\n",
    "\\hat{f}(k) = \\frac{1}{\\sqrt{2\\pi}} \\sum_{n = 0}^{N - 1} f(t_n)e^{it_nk}\\Delta\n",
    "$$\n",
    "\n",
    "donde $t_n = t_0 + n\\Delta$ y $\\Delta = L / N$.\n",
    "\n",
    "El siguiente código calcula la tranformada de Fourier"
   ]
  },
  {
   "cell_type": "code",
   "execution_count": 72,
   "metadata": {},
   "outputs": [],
   "source": [
    "import numpy as np"
   ]
  },
  {
   "cell_type": "code",
   "execution_count": 73,
   "metadata": {},
   "outputs": [],
   "source": [
    "def trans_fourier(funcion, valores_t):\n",
    "    normalizacion = np.divide(1.0, np.power(2.0 * np.pi, 0.5))\n",
    "    valores_freq = valores_t \n",
    "    f_k = []\n",
    "    N = len(valores_freq)\n",
    "    delta = abs(valores_x[1] - valores_x[0])\n",
    "    \n",
    "    for i in range(N):\n",
    "        terminos = []\n",
    "        \n",
    "        for n in range(N - 1):\n",
    "            parte_exp = np.exp(-complex(0,1) * valores_t[n] * valores_freq[i])\n",
    "            terminos.append(funcion[n] * parte_exp * delta)\n",
    "            \n",
    "        f_k.append(normalizacion * np.sum(terminos))\n",
    "        \n",
    "    return [valores_freq, np.array(f_k)]"
   ]
  },
  {
   "cell_type": "code",
   "execution_count": null,
   "metadata": {},
   "outputs": [],
   "source": []
  }
 ],
 "metadata": {
  "kernelspec": {
   "display_name": "Python 3",
   "language": "python",
   "name": "python3"
  },
  "language_info": {
   "codemirror_mode": {
    "name": "ipython",
    "version": 3
   },
   "file_extension": ".py",
   "mimetype": "text/x-python",
   "name": "python",
   "nbconvert_exporter": "python",
   "pygments_lexer": "ipython3",
   "version": "3.6.6"
  }
 },
 "nbformat": 4,
 "nbformat_minor": 2
}
