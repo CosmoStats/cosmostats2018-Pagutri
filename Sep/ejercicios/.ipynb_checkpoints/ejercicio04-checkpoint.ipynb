{
 "cells": [
  {
   "cell_type": "markdown",
   "metadata": {},
   "source": [
    "# Ejercicio 4: Estimación de parámetros cosmológicos\n",
    "\n",
    "_Estima los parámetros cosmológicos $ \\Omega_m $ y $ H_0 $ a partir de los datos dados, utilizando el método de las cadenas de Markov._"
   ]
  },
  {
   "cell_type": "markdown",
   "metadata": {},
   "source": [
    "El _módulo de distancia $ \\mu $_ está dado por la expresión\n",
    "\n",
    "$$\n",
    "\\mu = 25 - 5\\log_{10}(H_0/100) + 5\\log_{10}(D_L/Mpc)\n",
    "$$\n",
    "\n",
    "donde $ H_0 $ es la constante de Hubble y\n",
    "\n",
    "$$\n",
    "D_L = \\frac{c}{H_0}(1 + z)[\\eta(1, \\Omega_m) - \\eta(1/(1 + z), \\Omega_m)]\n",
    "$$\n",
    "\n",
    "Aquí, $ c $ es la velocidad de la luz, $ z $ es el corrimiento al rojo, $ \\Omega_m $ es la densidad de masa bariónica mas materia oscura y\n",
    "\n",
    "$$\n",
    "\\eta(a, \\Omega_m) = 2\\sqrt{s^3 + 1}[a^{-4} - 0.1540sa^{-3} + 0.4304s^2a^{-2} + 0.19097s^3a^{-1} + 0.066941s^4]^{-1/8}\n",
    "$$\n",
    "\n",
    "$$\n",
    "s^3 = (1 - \\Omega_m)/\\Omega_m\n",
    "$$\n",
    "\n",
    "Lo que buscamos es maximizar la función _Likelihood $ L $_, o su logaritmo. Asumiendo una distribución gaussiana:\n",
    "\n",
    "$$\n",
    "-ln(L(\\vec{x}, \\vec{y} | \\vec{\\theta})) = \\frac{1}{2} \\sum_{i} \\Bigg(\\frac{(y_i - \\lambda(x_i, \\vec{\\theta}))^2}{\\sigma_i^2}\\Bigg)\n",
    "$$"
   ]
  },
  {
   "cell_type": "markdown",
   "metadata": {},
   "source": [
    "Posibles fuentes de indeterminación:\n",
    "\n",
    "*Que omega_m sea cero\n",
    "*que el tercer factor de eta sea cero\n",
    "*que el eta de la derecha en dl sea mayor que el de la izquierda\n",
    "\n",
    "Imprimir\n",
    "*Tercer factor de eta antes de potenciar\n",
    "*segundo eta de dl\n",
    "*valores de omega y h"
   ]
  },
  {
   "cell_type": "code",
   "execution_count": 2,
   "metadata": {},
   "outputs": [],
   "source": [
    "import matplotlib. pyplot as plt\n",
    "import numpy as np\n",
    "import scipy.special as spe\n",
    "import scipy.stats as stats\n",
    "from scipy.optimize import minimize\n",
    "import random\n",
    "import pylab\n",
    "import math\n",
    "\n",
    "%matplotlib inline\n",
    "pylab.rcParams['figure.figsize'] = (10, 6)"
   ]
  },
  {
   "cell_type": "code",
   "execution_count": 7,
   "metadata": {},
   "outputs": [
    {
     "data": {
      "text/plain": [
       "Text(0,0.5,'$\\\\mu$')"
      ]
     },
     "execution_count": 7,
     "metadata": {},
     "output_type": "execute_result"
    },
    {
     "data": {
      "image/png": "[encoded data removed]",
      "text/plain": [
       "<Figure size 432x288 with 1 Axes>"
      ]
     },
     "metadata": {},
     "output_type": "display_data"
    }
   ],
   "source": [
    "# Extraer datos desde archivos\n",
    "cov_matrix = np.loadtxt('files/jla_mub_covmatrix.dat')\n",
    "z = np.loadtxt('files/jla_mub.txt', usecols = 0)\n",
    "mu = np.loadtxt('files/jla_mub.txt', usecols = 1)\n",
    "varianza = []\n",
    "\n",
    "# De cov_matrix solo nos interesa la varianza, que está en la diagonal\n",
    "for i in range(31):\n",
    "    varianza.append(cov_matrix[31 * i + i])\n",
    "    \n",
    "plt.plot(z, mu)\n",
    "plt.xlabel(r'$z$', fontsize = 18)\n",
    "plt.ylabel(r'$\\mu$', fontsize = 18)"
   ]
  },
  {
   "cell_type": "code",
   "execution_count": 8,
   "metadata": {},
   "outputs": [],
   "source": [
    "# Definición de las expresiones matemáticas\n",
    "def s(omega_m):\n",
    "    return math.pow((1.0 - omega_m) / omega_m, 1.0 / 3.0)\n",
    "\n",
    "def eta(a, omega_m):\n",
    "    return 2.0 * math.sqrt(math.pow(s(omega_m), 3.0) + 1.0) * (math.pow(a, -4.0) - 0.154 * \\\n",
    "           s(omega_m) * math.pow(a, -3.0) + 0.4304 * math.pow(s(omega_m), 2.0) * math.pow(a, -2.0) + \\\n",
    "           0.19097 * math.pow(s(omega_m), 3.0) * math.pow(a, -1.0) + 0.066941 * math.pow(s(omega_m), 4.0))\n",
    "\n",
    "def D_L(z, H_0, omega_m):\n",
    "    c = 3e8 # ¿Dimensiones correctas?\n",
    "    print('eta1 = ' + str(eta(1.0, omega_m)))\n",
    "    print('eta2 = ' + str(eta(1.0 / (1.0 + z), omega_m)))\n",
    "    return c * (1.0 + z) * (eta(1.0, omega_m) - eta(1.0 / (1.0 + z), omega_m)) / H_0\n",
    "\n",
    "def dist_mu(z, H_0, omega_m):\n",
    "    return 25.0 - 5.0 * math.log(H_0 / 100.0, 10.0) + 5.0 * math.log(D_L(z, H_0, omega_m), 10.0)\n",
    "\n",
    "def likelihood(H_0, omega_m, mu_list, z_list, var_list):\n",
    "    suma = 0.0\n",
    "    \n",
    "    for i in range(len(mu_list)):\n",
    "        suma += ((mu_list[i] - dist_mu(z_list[i], H_0, omega_m)) / var_list[i])**2.0\n",
    "        \n",
    "    return 0.5 * suma"
   ]
  },
  {
   "cell_type": "code",
   "execution_count": 14,
   "metadata": {},
   "outputs": [
    {
     "name": "stdout",
     "output_type": "stream",
     "text": [
      "h = 55\n",
      "omega = 0.29660909673834757\n",
      "eta1 = 8.169353431632283\n",
      "eta2 = 8.368738082002286\n"
     ]
    },
    {
     "ename": "ValueError",
     "evalue": "math domain error",
     "output_type": "error",
     "traceback": [
      "\u001b[0;31m---------------------------------------------------------------------------\u001b[0m",
      "\u001b[0;31mValueError\u001b[0m                                Traceback (most recent call last)",
      "\u001b[0;32m<ipython-input-14-a2220fcfea1b>\u001b[0m in \u001b[0;36m<module>\u001b[0;34m()\u001b[0m\n\u001b[1;32m     10\u001b[0m     \u001b[0mprint\u001b[0m\u001b[0;34m(\u001b[0m\u001b[0;34m'h = '\u001b[0m \u001b[0;34m+\u001b[0m \u001b[0mstr\u001b[0m\u001b[0;34m(\u001b[0m\u001b[0mh\u001b[0m\u001b[0;34m)\u001b[0m\u001b[0;34m)\u001b[0m\u001b[0;34m\u001b[0m\u001b[0m\n\u001b[1;32m     11\u001b[0m     \u001b[0mprint\u001b[0m\u001b[0;34m(\u001b[0m\u001b[0;34m'omega = '\u001b[0m \u001b[0;34m+\u001b[0m \u001b[0mstr\u001b[0m\u001b[0;34m(\u001b[0m\u001b[0momega\u001b[0m\u001b[0;34m)\u001b[0m\u001b[0;34m)\u001b[0m\u001b[0;34m\u001b[0m\u001b[0m\n\u001b[0;32m---> 12\u001b[0;31m     \u001b[0mnew_likelhd\u001b[0m \u001b[0;34m=\u001b[0m \u001b[0mlikelihood\u001b[0m\u001b[0;34m(\u001b[0m\u001b[0mh\u001b[0m\u001b[0;34m,\u001b[0m \u001b[0momega\u001b[0m\u001b[0;34m,\u001b[0m \u001b[0mmu\u001b[0m\u001b[0;34m,\u001b[0m \u001b[0mz\u001b[0m\u001b[0;34m,\u001b[0m \u001b[0mvarianza\u001b[0m\u001b[0;34m)\u001b[0m\u001b[0;34m\u001b[0m\u001b[0m\n\u001b[0m\u001b[1;32m     13\u001b[0m \u001b[0;34m\u001b[0m\u001b[0m\n\u001b[1;32m     14\u001b[0m \"\"\"    if omega > 0.0:\n",
      "\u001b[0;32m<ipython-input-8-60bbe0a5bcda>\u001b[0m in \u001b[0;36mlikelihood\u001b[0;34m(H_0, omega_m, mu_list, z_list, var_list)\u001b[0m\n\u001b[1;32m     19\u001b[0m \u001b[0;34m\u001b[0m\u001b[0m\n\u001b[1;32m     20\u001b[0m     \u001b[0;32mfor\u001b[0m \u001b[0mi\u001b[0m \u001b[0;32min\u001b[0m \u001b[0mrange\u001b[0m\u001b[0;34m(\u001b[0m\u001b[0mlen\u001b[0m\u001b[0;34m(\u001b[0m\u001b[0mmu_list\u001b[0m\u001b[0;34m)\u001b[0m\u001b[0;34m)\u001b[0m\u001b[0;34m:\u001b[0m\u001b[0;34m\u001b[0m\u001b[0m\n\u001b[0;32m---> 21\u001b[0;31m         \u001b[0msuma\u001b[0m \u001b[0;34m+=\u001b[0m \u001b[0;34m(\u001b[0m\u001b[0;34m(\u001b[0m\u001b[0mmu_list\u001b[0m\u001b[0;34m[\u001b[0m\u001b[0mi\u001b[0m\u001b[0;34m]\u001b[0m \u001b[0;34m-\u001b[0m \u001b[0mdist_mu\u001b[0m\u001b[0;34m(\u001b[0m\u001b[0mz_list\u001b[0m\u001b[0;34m[\u001b[0m\u001b[0mi\u001b[0m\u001b[0;34m]\u001b[0m\u001b[0;34m,\u001b[0m \u001b[0mH_0\u001b[0m\u001b[0;34m,\u001b[0m \u001b[0momega_m\u001b[0m\u001b[0;34m)\u001b[0m\u001b[0;34m)\u001b[0m \u001b[0;34m/\u001b[0m \u001b[0mvar_list\u001b[0m\u001b[0;34m[\u001b[0m\u001b[0mi\u001b[0m\u001b[0;34m]\u001b[0m\u001b[0;34m)\u001b[0m\u001b[0;34m**\u001b[0m\u001b[0;36m2.0\u001b[0m\u001b[0;34m\u001b[0m\u001b[0m\n\u001b[0m\u001b[1;32m     22\u001b[0m \u001b[0;34m\u001b[0m\u001b[0m\n\u001b[1;32m     23\u001b[0m     \u001b[0;32mreturn\u001b[0m \u001b[0;36m0.5\u001b[0m \u001b[0;34m*\u001b[0m \u001b[0msuma\u001b[0m\u001b[0;34m\u001b[0m\u001b[0m\n",
      "\u001b[0;32m<ipython-input-8-60bbe0a5bcda>\u001b[0m in \u001b[0;36mdist_mu\u001b[0;34m(z, H_0, omega_m)\u001b[0m\n\u001b[1;32m     13\u001b[0m \u001b[0;34m\u001b[0m\u001b[0m\n\u001b[1;32m     14\u001b[0m \u001b[0;32mdef\u001b[0m \u001b[0mdist_mu\u001b[0m\u001b[0;34m(\u001b[0m\u001b[0mz\u001b[0m\u001b[0;34m,\u001b[0m \u001b[0mH_0\u001b[0m\u001b[0;34m,\u001b[0m \u001b[0momega_m\u001b[0m\u001b[0;34m)\u001b[0m\u001b[0;34m:\u001b[0m\u001b[0;34m\u001b[0m\u001b[0m\n\u001b[0;32m---> 15\u001b[0;31m     \u001b[0;32mreturn\u001b[0m \u001b[0;36m25.0\u001b[0m \u001b[0;34m-\u001b[0m \u001b[0;36m5.0\u001b[0m \u001b[0;34m*\u001b[0m \u001b[0mmath\u001b[0m\u001b[0;34m.\u001b[0m\u001b[0mlog\u001b[0m\u001b[0;34m(\u001b[0m\u001b[0mH_0\u001b[0m \u001b[0;34m/\u001b[0m \u001b[0;36m100.0\u001b[0m\u001b[0;34m,\u001b[0m \u001b[0;36m10.0\u001b[0m\u001b[0;34m)\u001b[0m \u001b[0;34m+\u001b[0m \u001b[0;36m5.0\u001b[0m \u001b[0;34m*\u001b[0m \u001b[0mmath\u001b[0m\u001b[0;34m.\u001b[0m\u001b[0mlog\u001b[0m\u001b[0;34m(\u001b[0m\u001b[0mD_L\u001b[0m\u001b[0;34m(\u001b[0m\u001b[0mz\u001b[0m\u001b[0;34m,\u001b[0m \u001b[0mH_0\u001b[0m\u001b[0;34m,\u001b[0m \u001b[0momega_m\u001b[0m\u001b[0;34m)\u001b[0m\u001b[0;34m,\u001b[0m \u001b[0;36m10.0\u001b[0m\u001b[0;34m)\u001b[0m\u001b[0;34m\u001b[0m\u001b[0m\n\u001b[0m\u001b[1;32m     16\u001b[0m \u001b[0;34m\u001b[0m\u001b[0m\n\u001b[1;32m     17\u001b[0m \u001b[0;32mdef\u001b[0m \u001b[0mlikelihood\u001b[0m\u001b[0;34m(\u001b[0m\u001b[0mH_0\u001b[0m\u001b[0;34m,\u001b[0m \u001b[0momega_m\u001b[0m\u001b[0;34m,\u001b[0m \u001b[0mmu_list\u001b[0m\u001b[0;34m,\u001b[0m \u001b[0mz_list\u001b[0m\u001b[0;34m,\u001b[0m \u001b[0mvar_list\u001b[0m\u001b[0;34m)\u001b[0m\u001b[0;34m:\u001b[0m\u001b[0;34m\u001b[0m\u001b[0m\n",
      "\u001b[0;31mValueError\u001b[0m: math domain error"
     ]
    }
   ],
   "source": [
    "omega_sample = []\n",
    "h_sample = []\n",
    "old_likelhd = 0.0\n",
    "new_likelhd = 0.0\n",
    "\n",
    "for i in range(1000):\n",
    "    h = random.randrange(45.0, 80.0)\n",
    "    omega = random.random()\n",
    "    \n",
    "    print('h = ' + str(h))\n",
    "    print('omega = ' + str(omega))\n",
    "    new_likelhd = likelihood(h, omega, mu, z, varianza)\n",
    "    \n",
    "\"\"\"    if omega > 0.0:\n",
    "        new_likelhd = likelihood(h, omega, mu, z, varianza)\n",
    "    \n",
    "        if new_likelhd > old_likelhd:\n",
    "            old_likelhd = new_likelhd\n",
    "            omega_sample.append(omega)\n",
    "            h_sample.append(h)\n",
    "        elif random.random() < new_likelhd:\n",
    "            old_likelhd = new_likelhd\n",
    "            omega_sample.append(omega)\n",
    "            h_sample.append(h)\"\"\""
   ]
  },
  {
   "cell_type": "markdown",
   "metadata": {},
   "source": []
  }
 ],
 "metadata": {
  "kernelspec": {
   "display_name": "Python 3",
   "language": "python",
   "name": "python3"
  },
  "language_info": {
   "codemirror_mode": {
    "name": "ipython",
    "version": 3
   },
   "file_extension": ".py",
   "mimetype": "text/x-python",
   "name": "python",
   "nbconvert_exporter": "python",
   "pygments_lexer": "ipython3",
   "version": "3.6.6"
  }
 },
 "nbformat": 4,
 "nbformat_minor": 2
}
