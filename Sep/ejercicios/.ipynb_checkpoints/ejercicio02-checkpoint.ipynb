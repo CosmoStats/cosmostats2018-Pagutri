{
 "cells": [
  {
   "cell_type": "markdown",
   "metadata": {},
   "source": [
    "# Ejercicio 2: Transformación de variables\n",
    "\n",
    "**1.** _Si $ y = \\Phi(x) = exp(x) $, y $ p(x) = 1 $ para $ 0 \\leq x \\leq 1 $ (una distribución uniforme), ¿cuál es la distribución resultante para $ y $?_"
   ]
  },
  {
   "cell_type": "markdown",
   "metadata": {},
   "source": [
    "La distribución resultante para $ y $ está dada por\n",
    "\n",
    "$$\n",
    "\\begin{align*}\n",
    "    p_y(y) &= p_x(\\Phi^{-1}(y))\\Big(\\frac{d\\Phi^{-1}(y)}{dy}\\Big) & \\\\\n",
    "           &= p_x(\\ln y)\\Big(\\frac{1}{y}\\Big) & \\\\\n",
    "           &= \\frac{1}{y} & 0 \\leq \\ln y \\leq 1 \\\\\n",
    "           &= \\frac{1}{y} & 1 \\leq y \\leq e\n",
    "\\end{align*}\n",
    "$$"
   ]
  },
  {
   "cell_type": "markdown",
   "metadata": {},
   "source": []
  }
 ],
 "metadata": {
  "kernelspec": {
   "display_name": "Python 3",
   "language": "python",
   "name": "python3"
  },
  "language_info": {
   "codemirror_mode": {
    "name": "ipython",
    "version": 3
   },
   "file_extension": ".py",
   "mimetype": "text/x-python",
   "name": "python",
   "nbconvert_exporter": "python",
   "pygments_lexer": "ipython3",
   "version": "3.7.0"
  }
 },
 "nbformat": 4,
 "nbformat_minor": 2
}
