{
 "cells": [
  {
   "cell_type": "markdown",
   "metadata": {},
   "source": [
    "# Ejercicio 4: Estimación de parámetros cosmológicos\n",
    "\n",
    "_Estima los parámetros cosmológicos $ \\Omega_m $ y $ H_0 $ a partir de los datos dados, utilizando el método de las cadenas de Markov._"
   ]
  },
  {
   "cell_type": "markdown",
   "metadata": {},
   "source": [
    "El _módulo de distancia $ \\mu $_ está dado por la expresión\n",
    "\n",
    "$$\n",
    "\\mu = 25 - 5\\log_{10}(H_0/100) + 5\\log_{10}(D_L/Mpc)\n",
    "$$\n",
    "\n",
    "donde $ H_0 $ es la constante de Hubble y\n",
    "\n",
    "$$\n",
    "D_L = \\frac{c}{H_0}(1 + z)[\\eta(1, \\Omega_m) - \\eta(1/(1 + z), \\Omega_m)]\n",
    "$$\n",
    "\n",
    "Aquí, $ c $ es la velocidad de la luz, $ z $ es el corrimiento al rojo, $ \\Omega_m $ es la densidad de masa bariónica mas materia oscura y\n",
    "\n",
    "$$\n",
    "\\eta(a, \\Omega_m) = 2\\sqrt{s^3 + 1}[a^{-4} - 0.1540sa^{-3} + 0.4304s^2a^{-2} + 0.19097s^3a^{-1} + 0.066941s^4]^{-1/8}\n",
    "$$\n",
    "\n",
    "$$\n",
    "s^3 = (1 - \\Omega_m)/\\Omega_m\n",
    "$$\n",
    "\n",
    "Lo que buscamos es maximizar la función _Likelihood $ L $_, o su logaritmo. Asumiendo una distribución gaussiana:\n",
    "\n",
    "$$\n",
    "ln(L(\\vec{x}, \\vec{y} | \\vec{\\theta})) = -\\frac{1}{2} \\sum_{i} \\Bigg(\\frac{(y_i - \\lambda(x_i, \\vec{\\theta}))^2}{\\sigma_i^2}\\Bigg)\n",
    "$$"
   ]
  },
  {
   "cell_type": "code",
   "execution_count": 19,
   "metadata": {},
   "outputs": [],
   "source": [
    "import matplotlib. pyplot as plt\n",
    "import numpy as np\n",
    "from random import random, gauss\n",
    "from pylab import rcParams\n",
    "from math import log, exp\n",
    "\n",
    "%matplotlib inline\n",
    "rcParams['figure.figsize'] = (10, 6)"
   ]
  },
  {
   "cell_type": "code",
   "execution_count": 20,
   "metadata": {},
   "outputs": [
    {
     "data": {
      "text/plain": [
       "Text(0,0.5,'$\\\\mu$')"
      ]
     },
     "execution_count": 20,
     "metadata": {},
     "output_type": "execute_result"
    },
    {
     "data": {
      "image/png": "[encoded data removed]",
      "text/plain": [
       "<Figure size 720x432 with 1 Axes>"
      ]
     },
     "metadata": {},
     "output_type": "display_data"
    }
   ],
   "source": [
    "# Extraer datos desde archivos\n",
    "cov_matrix = np.loadtxt('files/jla_mub_covmatrix.dat')\n",
    "z = np.loadtxt('files/jla_mub.txt', usecols = 0)\n",
    "mu = np.loadtxt('files/jla_mub.txt', usecols = 1)\n",
    "varianza = []\n",
    "\n",
    "# De cov_matrix solo nos interesa la varianza, que está en la diagonal\n",
    "for i in range(31):\n",
    "    varianza.append(cov_matrix[31 * i + i])\n",
    "    \n",
    "plt.plot(z, mu)\n",
    "plt.xlabel(r'$z$', fontsize = 18)\n",
    "plt.ylabel(r'$\\mu$', fontsize = 18)"
   ]
  },
  {
   "cell_type": "code",
   "execution_count": 21,
   "metadata": {},
   "outputs": [],
   "source": [
    "# Definición de las expresiones matemáticas\n",
    "def s(omega_m):\n",
    "    return ((1.0 - omega_m) / omega_m)**(1.0 / 3.0)\n",
    "\n",
    "def eta(a, omega_m):\n",
    "    return 2.0 * (s(omega_m)**3.0 + 1.0)**0.5 * (a**(-4.0) - 0.154 * \\\n",
    "           s(omega_m) * a**(-3.0) + 0.4304 * s(omega_m)**2.0 * a**(-2.0) + \\\n",
    "           0.19097 * s(omega_m)**3.0 * a**(-1.0) + 0.066941 * s(omega_m)**4.0)**(-1.0/8.0)\n",
    "\n",
    "def D_L(z, H_0, omega_m):\n",
    "    c = 3e5 # km/s\n",
    "    return c * (1.0 + z) * (eta(1.0, omega_m) - eta(1.0 / (1.0 + z), omega_m)) / H_0\n",
    "\n",
    "def dist_mu(z, H_0, omega_m):\n",
    "    return 25.0 - 5.0 * log(H_0 / 100.0, 10.0) + 5.0 * log(D_L(z, H_0, omega_m), 10.0)\n",
    "\n",
    "def log_likelihood(H_0, omega_m, mu_list, z_list, var_list): # ln(L)\n",
    "    suma = 0.0\n",
    "    \n",
    "    for i in range(len(mu_list)):\n",
    "        suma += ((mu_list[i] - dist_mu(z_list[i], H_0, omega_m)) / var_list[i])**2.0\n",
    "        \n",
    "    return -0.5 * suma"
   ]
  },
  {
   "cell_type": "code",
   "execution_count": 66,
   "metadata": {},
   "outputs": [
    {
     "name": "stdout",
     "output_type": "stream",
     "text": [
      "10000 36\n"
     ]
    }
   ],
   "source": [
    "Nsamples = 10000\n",
    "omega_sample = []\n",
    "h_sample = []\n",
    "h0 = 51.0\n",
    "omega0 = 0.3\n",
    "old_log_likelhd = log_likelihood(h0, omega0, mu, z, varianza)\n",
    "new_log_likelhd = 0.0\n",
    "aceptados = 0\n",
    "\n",
    "for i in range(Nsamples):\n",
    "    h_sample.append(h0)\n",
    "    omega_sample.append(omega0)\n",
    "    \n",
    "    h = -1.0\n",
    "    omega = -1.0\n",
    "    while(h < 0 or h > 100):\n",
    "        h = gauss(h0, 2.0)\n",
    "    while(omega < 0.1 or omega > 1.0):\n",
    "        omega = gauss(omega0, 0.05)\n",
    "    \n",
    "    new_log_likelhd = log_likelihood(h, omega, mu, z, varianza)\n",
    "    diff = new_log_likelhd - old_log_likelhd\n",
    "        \n",
    "    if new_log_likelhd > old_log_likelhd:\n",
    "        old_log_likelhd = new_log_likelhd\n",
    "        h0 = h\n",
    "        omega0 = omega\n",
    "        aceptados += 1\n",
    "    elif random() < new_log_likelhd:\n",
    "        old_log_likelhd = new_log_likelhd\n",
    "        h0 = h\n",
    "        omega0 = omega\n",
    "        aceptados += 1\n",
    "        \n",
    "print(len(omega_sample), aceptados)"
   ]
  },
  {
   "cell_type": "code",
   "execution_count": 63,
   "metadata": {},
   "outputs": [
    {
     "data": {
      "text/plain": [
       "Text(0.5,1,'Valores de $H_0$ y $\\\\Omega_m$ utilizados')"
      ]
     },
     "execution_count": 63,
     "metadata": {},
     "output_type": "execute_result"
    },
    {
     "data": {
      "image/png": "[encoded data removed]",
      "text/plain": [
       "<Figure size 720x432 with 1 Axes>"
      ]
     },
     "metadata": {},
     "output_type": "display_data"
    }
   ],
   "source": [
    "plt.plot(h_sample, omega_sample, 'o')\n",
    "plt.xlabel(r'$H_0$', fontsize = 18)\n",
    "plt.ylabel(r'$\\Omega_m$', fontsize = 18)\n",
    "plt.title(r'Valores de $H_0$ y $\\Omega_m$ utilizados', fontsize = 18)"
   ]
  },
  {
   "cell_type": "code",
   "execution_count": null,
   "metadata": {},
   "outputs": [],
   "source": []
  }
 ],
 "metadata": {
  "kernelspec": {
   "display_name": "Python 3",
   "language": "python",
   "name": "python3"
  },
  "language_info": {
   "codemirror_mode": {
    "name": "ipython",
    "version": 3
   },
   "file_extension": ".py",
   "mimetype": "text/x-python",
   "name": "python",
   "nbconvert_exporter": "python",
   "pygments_lexer": "ipython3",
   "version": "3.7.0"
  }
 },
 "nbformat": 4,
 "nbformat_minor": 2
}
