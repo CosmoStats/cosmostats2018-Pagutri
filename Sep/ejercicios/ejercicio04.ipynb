{
 "cells": [
  {
   "cell_type": "markdown",
   "metadata": {},
   "source": [
    "# Ejercicio 4: Estimación de parámetros cosmológicos\n",
    "\n",
    "_Estima los parámetros cosmológicos $ \\Omega_m $ y $ H_0 $ a partir de los datos dados, utilizando el algoritmo Metropolis._"
   ]
  },
  {
   "cell_type": "markdown",
   "metadata": {},
   "source": [
    "La _distancia-módulo $ \\mu $_ está dada por la expresión\n",
    "\n",
    "$$\n",
    "\\mu = 25 - 5\\log_{10}(H_0/100) + 5\\log_{10}(D_L/Mpc)\n",
    "$$\n",
    "\n",
    "donde $ H_0 $ es la constante de Hubble y\n",
    "\n",
    "$$\n",
    "D_L = \\frac{c}{H_0}(1 + z)[\\eta(1, \\Omega_m) - \\eta(1/(1 + z), \\Omega_m)]\n",
    "$$\n",
    "\n",
    "es la _distancia luminosa_. Aquí, $ c $ es la velocidad de la luz, $ z $ es el corrimiento al rojo, $ \\Omega_m $ es la densidad de masa bariónica mas materia oscura y\n",
    "\n",
    "$$\n",
    "\\eta(a, \\Omega_m) = 2\\sqrt{s^3 + 1}[a^{-4} - 0.1540sa^{-3} + 0.4304s^2a^{-2} + 0.19097s^3a^{-1} + 0.066941s^4]^{-1/8}\n",
    "$$\n",
    "\n",
    "$$\n",
    "s^3 = (1 - \\Omega_m)/\\Omega_m\n",
    "$$\n",
    "\n",
    "Lo que buscamos es maximizar la función _Likelihood $ L $_, o su logaritmo. Asumiendo una distribución gaussiana:\n",
    "\n",
    "$$\n",
    "ln(L(\\vec{x}, \\vec{y} | \\vec{\\theta})) = -\\frac{1}{2} \\sum_{i} \\Bigg(\\frac{(y_i - \\lambda(x_i, \\vec{\\theta}))^2}{\\sigma_i^2}\\Bigg)\n",
    "$$\n",
    "\n",
    "Donde $ \\lambda(x, \\vec{\\theta}) $ es nuestro modelo propuesto. El algoritmo Metropolis consiste en dar _pasos_ aleatorios en el espacio de solución hasta encontrar una $ \\lambda(x, \\vec{\\theta}) $ que maximice el likelihood."
   ]
  },
  {
   "cell_type": "code",
   "execution_count": 14,
   "metadata": {},
   "outputs": [],
   "source": [
    "import matplotlib.pyplot as plt\n",
    "import numpy as np\n",
    "from random import random, gauss\n",
    "from pylab import rcParams\n",
    "from math import exp\n",
    "\n",
    "%matplotlib inline\n",
    "rcParams['figure.figsize'] = (10, 6)"
   ]
  },
  {
   "cell_type": "code",
   "execution_count": 19,
   "metadata": {},
   "outputs": [
    {
     "data": {
      "text/plain": [
       "Text(0,0.5,'$\\\\mu$')"
      ]
     },
     "execution_count": 19,
     "metadata": {},
     "output_type": "execute_result"
    },
    {
     "data": {
      "image/png": "[encoded data removed]",
      "text/plain": [
       "<Figure size 720x432 with 1 Axes>"
      ]
     },
     "metadata": {},
     "output_type": "display_data"
    }
   ],
   "source": [
    "# Extraer datos desde archivos\n",
    "cov_matrix = np.loadtxt('files/jla_mub_covmatrix.dat')\n",
    "z = np.loadtxt('files/jla_mub.txt', usecols = 0)\n",
    "mu = np.loadtxt('files/jla_mub.txt', usecols = 1)\n",
    "varianza = []\n",
    "\n",
    "# De cov_matrix solo nos interesa la varianza, que está en la diagonal\n",
    "for i in range(31):\n",
    "    varianza.append(cov_matrix[31 * i + i])\n",
    "    \n",
    "varianza = np.array(varianza)\n",
    "    \n",
    "plt.plot(z, mu)\n",
    "plt.scatter(z, mu)\n",
    "plt.xlabel(r'$z$', fontsize = 18)\n",
    "plt.ylabel(r'$\\mu$', fontsize = 18)"
   ]
  },
  {
   "cell_type": "code",
   "execution_count": 3,
   "metadata": {},
   "outputs": [],
   "source": [
    "def s_func(omega_m):\n",
    "    return pow((1.0 - omega_m) / omega_m, 1.0 / 3.0)"
   ]
  },
  {
   "cell_type": "code",
   "execution_count": 4,
   "metadata": {},
   "outputs": [],
   "source": [
    "def eta(a, omega_m):\n",
    "    s = s_func(omega_m)\n",
    "    s2 = s**2.0\n",
    "    s3 = s**3.0\n",
    "    s4 = s2**2.0\n",
    "    coef = [-0.154, 0.4304, 0.19097, 0.066941]\n",
    "    \n",
    "    return 2.0 * np.sqrt(s3 + 1.0) * pow(1.0/a**4.0 + coef[0]*s/a**3.0 + coef[1]*s2/a**2.0 + \\\n",
    "           coef[2]*s3/a + coef[3]*s4, -1.0/8.0)"
   ]
  },
  {
   "cell_type": "code",
   "execution_count": 5,
   "metadata": {},
   "outputs": [],
   "source": [
    "def D_L(z, params):\n",
    "    H_0 = params[0]\n",
    "    omega_m = params[1]\n",
    "    c = 3.0e5 # km/s\n",
    "    a0 = 1.0\n",
    "    a1 = 1.0 / (1.0 + z)\n",
    "    \n",
    "    return c * (1.0 + z) * (eta(a0, omega_m) - eta(a1, omega_m)) / H_0"
   ]
  },
  {
   "cell_type": "code",
   "execution_count": 6,
   "metadata": {},
   "outputs": [],
   "source": [
    "def dist_mu(z, params):\n",
    "    H_0 = params[0]\n",
    "    \n",
    "    return 25.0 - 5.0 * np.log10(H_0 / 100.0) + 5.0 * np.log10(D_L(z, params))"
   ]
  },
  {
   "cell_type": "code",
   "execution_count": 7,
   "metadata": {},
   "outputs": [],
   "source": [
    "def log_like(params, mu_arr, z_arr, var_arr): # ln(L)\n",
    "    suma = np.sum(((mu_arr - dist_mu(z_arr, params)) / var_arr)**2.0)\n",
    "    return -0.5 * suma"
   ]
  },
  {
   "cell_type": "code",
   "execution_count": 16,
   "metadata": {},
   "outputs": [],
   "source": [
    "def mcmc_step(params_0, params, l0, l1):\n",
    "    accept_prob = 0.01\n",
    "    \n",
    "    if l1 > l0:\n",
    "        l0 = l1\n",
    "        params_0 = params\n",
    "    elif random() < accept_prob:\n",
    "        l0 = l1\n",
    "        params_0 = params\n",
    "    \n",
    "    return l0, params_0"
   ]
  },
  {
   "cell_type": "code",
   "execution_count": 17,
   "metadata": {},
   "outputs": [],
   "source": [
    "Nsamples = 10000\n",
    "omega_sample = []\n",
    "h_sample = []\n",
    "params_0 = [51.0, 0.3] # h_0, omega_0\n",
    "old_like = log_like(params_0, mu, z, varianza)\n",
    "new_like = 0.0\n",
    "sigma1 = 1.0 # Para h\n",
    "sigma2 = 0.1 # Para omega\n",
    "\n",
    "for i in range(Nsamples):\n",
    "    h_sample.append(params_0[0])\n",
    "    omega_sample.append(params_0[1])\n",
    "    \n",
    "    params = [-1.0, -1.0] # h, omega\n",
    "    \n",
    "    # Estos ciclos son para moverse cerca de la muestra\n",
    "    # sin que se salgan del rango.\n",
    "    while(params[0] < 0 or params[0] > 100):\n",
    "        params[0] = gauss(params_0[0], sigma1)\n",
    "    while(params[1] < 0.1 or params[1] > 1.0):\n",
    "        params[1] = gauss(params_0[1], sigma2)\n",
    "    \n",
    "    new_like = log_like(params, mu, z, varianza)\n",
    "        \n",
    "    old_like, params_0 = mcmc_step(params_0, params, old_like, new_like)"
   ]
  },
  {
   "cell_type": "code",
   "execution_count": 18,
   "metadata": {
    "scrolled": false
   },
   "outputs": [
    {
     "data": {
      "text/plain": [
       "Text(0.5,1,'Valores de $H_0$ y $\\\\Omega_m$ utilizados')"
      ]
     },
     "execution_count": 18,
     "metadata": {},
     "output_type": "execute_result"
    },
    {
     "data": {
      "image/png": "[encoded data removed]",
      "text/plain": [
       "<Figure size 720x432 with 1 Axes>"
      ]
     },
     "metadata": {},
     "output_type": "display_data"
    }
   ],
   "source": [
    "plt.plot(h_sample, omega_sample, 'o')\n",
    "plt.xlabel(r'$H_0$', fontsize = 18)\n",
    "plt.ylabel(r'$\\Omega_m$', fontsize = 18)\n",
    "plt.title(r'Valores de $H_0$ y $\\Omega_m$ utilizados', fontsize = 18)"
   ]
  }
 ],
 "metadata": {
  "kernelspec": {
   "display_name": "Python 3",
   "language": "python",
   "name": "python3"
  },
  "language_info": {
   "codemirror_mode": {
    "name": "ipython",
    "version": 3
   },
   "file_extension": ".py",
   "mimetype": "text/x-python",
   "name": "python",
   "nbconvert_exporter": "python",
   "pygments_lexer": "ipython3",
   "version": "3.7.0"
  }
 },
 "nbformat": 4,
 "nbformat_minor": 2
}
